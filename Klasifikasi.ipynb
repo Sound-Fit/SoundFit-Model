{
 "cells": [
  {
   "cell_type": "code",
   "execution_count": 17,
   "metadata": {
    "id": "Q_M1IO4GgZQi"
   },
   "outputs": [],
   "source": [
    "import numpy as np\n",
    "import cv2 as cv\n",
    "from skimage.feature import canny\n",
    "\n",
    "from sklearn.utils import shuffle\n",
    "from sklearn.model_selection import train_test_split\n",
    "from sklearn.preprocessing import StandardScaler\n",
    "from sklearn.model_selection import train_test_split, cross_val_score, GridSearchCV\n",
    "from sklearn.svm import SVC\n",
    "from sklearn.metrics import confusion_matrix\n",
    "\n",
    "import os\n",
    "import numpy as np\n",
    "import pandas as pd\n",
    "import cv2\n",
    "from sklearn.preprocessing import StandardScaler\n",
    "from skimage.feature import canny\n",
    "import matplotlib.pyplot as plt\n",
    "\n",
    "import joblib"
   ]
  },
  {
   "cell_type": "markdown",
   "metadata": {
    "id": "jiMddsZczT2o"
   },
   "source": [
    "## **Ekstrasi Fitur**"
   ]
  },
  {
   "cell_type": "code",
   "execution_count": 18,
   "metadata": {},
   "outputs": [],
   "source": [
    "import cv2\n",
    "\n",
    "def detect_image(image_path, size=(200, 200)):\n",
    "    # Load Haar Cascade\n",
    "    cascade_wajah = cv2.CascadeClassifier('assets/haarcascade_frontalface_default.xml')\n",
    "\n",
    "    # Membaca gambar\n",
    "    image = cv2.imread(image_path)  # Menggunakan variabel `image_path`\n",
    "    if image is None:\n",
    "        raise ValueError(f\"Gambar tidak ditemukan atau tidak dapat dibaca: {image_path}\")\n",
    "\n",
    "    # Deteksi wajah\n",
    "    faces = cascade_wajah.detectMultiScale(image, scaleFactor=1.1, minNeighbors=5, minSize=(30, 30))\n",
    "\n",
    "    # Wajah tidak terdeteksi\n",
    "    if len(faces) == 0:\n",
    "        return None\n",
    "    else:\n",
    "        # Cari wajah dengan frame terbesar\n",
    "        largest_face = max(faces, key=lambda rect: rect[2] * rect[3])  # Pilih berdasarkan area (w * h)\n",
    "        x, y, w, h = largest_face\n",
    "\n",
    "        # Memotong gambar sesuai area deteksi wajah terbesar\n",
    "        face_crop = image[y:y + h, x:x + w]\n",
    "        face_crop = cv2.resize(face_crop, size)\n",
    "\n",
    "        # Mengurangi area gambar sebesar 10% (90% dari ukuran asli)\n",
    "        height, width = face_crop.shape[:2]\n",
    "        new_height = int(height * 0.70)\n",
    "        new_width = int(width * 0.70)\n",
    "\n",
    "        # Menghitung margin untuk cropping agar tetap di tengah\n",
    "        top_margin = (height - new_height) // 2\n",
    "        left_margin = (width - new_width) // 2\n",
    "\n",
    "        # Memotong area gambar\n",
    "        face_crop = face_crop[top_margin:top_margin + new_height, left_margin:left_margin + new_width]\n",
    "        return face_crop, image"
   ]
  },
  {
   "cell_type": "code",
   "execution_count": 19,
   "metadata": {
    "id": "lqajuiO4tqdk"
   },
   "outputs": [],
   "source": [
    "def fetch_image(image_path, size=(200, 200)):\n",
    "    # Membaca gambar\n",
    "    image = cv2.imread(image_path)  # Menggunakan variabel `image_path`\n",
    "    if image is None:\n",
    "        raise ValueError(f\"Gambar tidak ditemukan atau tidak dapat dibaca: {image_path}\")\n",
    "    \n",
    "    # Resize ke ukuran awal\n",
    "    face_crop = cv2.resize(image, size)\n",
    "\n",
    "    # Mengurangi area gambar sebesar 30% (70% dari ukuran asli)\n",
    "    height, width = face_crop.shape[:2]\n",
    "    new_height = int(height * 0.70)\n",
    "    new_width = int(width * 0.70)\n",
    "\n",
    "    # Menghitung margin untuk cropping agar tetap di tengah\n",
    "    top_margin = (height - new_height) // 2\n",
    "    left_margin = (width - new_width) // 2\n",
    "\n",
    "    # Memotong area gambar\n",
    "    face_crop = face_crop[top_margin:top_margin + new_height, left_margin:left_margin + new_width]\n",
    "\n",
    "    # Resize kembali hasil cropping ke ukuran `size`\n",
    "    face_crop = cv2.resize(face_crop, size)\n",
    "\n",
    "    return face_crop, image\n"
   ]
  },
  {
   "cell_type": "code",
   "execution_count": 33,
   "metadata": {},
   "outputs": [],
   "source": [
    "def features_quadrants(img):\n",
    "    \"\"\"\n",
    "    Calculate mean and std for 64 quadrants of the image.\n",
    "    \"\"\"\n",
    "    h, w = img.shape  # Ambil tinggi dan lebar gambar\n",
    "    h_step, w_step = h // 20, w // 20  # Ukuran setiap kuadran (dibagi 20x20)\n",
    "\n",
    "    features = []\n",
    "    for i in range(20):  # Iterasi untuk setiap baris kuadran\n",
    "        for j in range(20):  # Iterasi untuk setiap kolom kuadran\n",
    "            # Potong kuadran berdasarkan indeks\n",
    "            quad = img[i * h_step:(i + 1) * h_step, j * w_step:(j + 1) * w_step]\n",
    "            features.append(np.mean(quad))  # Hitung mean kuadran\n",
    "            features.append(np.std(quad))   # Hitung std kuadran\n",
    "            features.append(np.sum(quad))   # Hitung sum kuadran\n",
    "\n",
    "    # print( \"6 Features pertama: \",features[0:6])\n",
    "    return np.array(features, dtype='float32')"
   ]
  },
  {
   "cell_type": "code",
   "execution_count": 21,
   "metadata": {
    "id": "TxdXverTvJ5z"
   },
   "outputs": [],
   "source": [
    "def extract_feature(image_path):\n",
    "    # Load gambar dari path\n",
    "    img, img_org = fetch_image(image_path)\n",
    "    if img is None:\n",
    "        print(\"Image not found or cannot be loaded.\")\n",
    "        return None\n",
    "\n",
    "    # Mengonversi gambar ke grayscale\n",
    "    img= cv.cvtColor(img, cv.COLOR_BGR2GRAY)\n",
    "    \n",
    "    # Canny edge detection\n",
    "    img = canny(img, sigma=0.9)\n",
    "\n",
    "    # Ekstraksi fitur\n",
    "    img_features = features_quadrants(img)\n",
    "\n",
    "    return img_features"
   ]
  },
  {
   "cell_type": "code",
   "execution_count": 22,
   "metadata": {},
   "outputs": [],
   "source": [
    "def extract_feature_test(image_path):\n",
    "    # Load gambar dari path\n",
    "    img, img_org = detect_image(image_path)\n",
    "    if img is None:\n",
    "        print(\"Image not found or cannot be loaded.\")\n",
    "        return None\n",
    "\n",
    "    # Mengonversi gambar ke grayscale\n",
    "    img= cv.cvtColor(img, cv.COLOR_BGR2GRAY)\n",
    "    \n",
    "    # Canny edge detection\n",
    "    img = canny(img, sigma=0.9)\n",
    "\n",
    "    # Ekstraksi fitur\n",
    "    img_features = features_quadrants(img)\n",
    "\n",
    "    return img_features"
   ]
  },
  {
   "cell_type": "code",
   "execution_count": 23,
   "metadata": {
    "id": "0sYZRp9MX6st"
   },
   "outputs": [],
   "source": [
    "def classify_image(image_path, model, test=False):\n",
    "    \"\"\"\n",
    "    Fungsi untuk mengklasifikasikan gambar menggunakan model yang telah dilatih.\n",
    "    \"\"\"\n",
    "    if test==True:\n",
    "        features = extract_feature_test(image_path)\n",
    "    else:\n",
    "        features = extract_feature(image_path)\n",
    "    \n",
    "\n",
    "    if features is None:\n",
    "        return \"Wajah tidak terdeteksi!\"\n",
    "\n",
    "    features = features.reshape(1, -1)\n",
    "    label = model.predict(features)[0]\n",
    "    return label"
   ]
  },
  {
   "cell_type": "markdown",
   "metadata": {},
   "source": [
    "# Akurasi"
   ]
  },
  {
   "cell_type": "code",
   "execution_count": 24,
   "metadata": {},
   "outputs": [],
   "source": [
    "import os\n",
    "import pandas as pd\n",
    "from sklearn.metrics import accuracy_score\n",
    "\n",
    "# Fungsi untuk membaca dataset lokal dan menyiapkan filepath serta label\n",
    "def load_dataset(folder_path):\n",
    "    data = []\n",
    "    for root, _, files in os.walk(folder_path):\n",
    "        for file_name in files:\n",
    "            if file_name.lower().endswith(('.jpg', '.jpeg', '.png')):\n",
    "                file_path = os.path.join(root, file_name)\n",
    "                # Ekstrak label dari angka sebelum ekstensi\n",
    "                label = int(file_name.split('_')[-1].split('.')[0])\n",
    "                data.append((file_path, label))  # Path dan label\n",
    "    return pd.DataFrame(data, columns=['filepath', 'label'])\n",
    "\n",
    "# Fungsi untuk memproses dataset dan menghitung akurasi\n",
    "def evaluate_model(folder_path, model):\n",
    "    data = load_dataset(folder_path)\n",
    "    y_true = []\n",
    "    y_pred = []\n",
    "\n",
    "    for _, row in data.iterrows():\n",
    "        image_path = row['filepath']\n",
    "        true_label = row['label']\n",
    "\n",
    "        # Prediksi\n",
    "        predicted_label = classify_image(image_path, model)\n",
    "        \n",
    "        # Menambahkan hasil prediksi ke daftar\n",
    "        y_true.append(true_label)\n",
    "        y_pred.append(predicted_label)\n",
    "\n",
    "    # Hitung akurasi\n",
    "    accuracy = accuracy_score(y_true, y_pred)\n",
    "    return accuracy, y_true, y_pred\n",
    "\n",
    "# Path dataset lokal\n",
    "train_folder = 'dataset/final_dataset/train'\n",
    "test_folder = 'dataset/final_dataset/test'"
   ]
  },
  {
   "cell_type": "markdown",
   "metadata": {},
   "source": [
    "### NN"
   ]
  },
  {
   "cell_type": "code",
   "execution_count": 34,
   "metadata": {},
   "outputs": [
    {
     "name": "stdout",
     "output_type": "stream",
     "text": [
      "Akurasi Model: 34.93%\n"
     ]
    }
   ],
   "source": [
    "# Memuat model\n",
    "model_path = \"model/nn_20_canny_model_0.58.pkl\"\n",
    "model_nn = joblib.load(model_path)\n",
    "\n",
    "# Evaluasi model dengan dataset test\n",
    "accuracy, y_true, y_pred = evaluate_model(test_folder, model_nn)\n",
    "\n",
    "# Tampilkan hasil\n",
    "print(f\"Akurasi Model: {accuracy * 100:.2f}%\")"
   ]
  },
  {
   "cell_type": "markdown",
   "metadata": {},
   "source": [
    "### SVM"
   ]
  },
  {
   "cell_type": "code",
   "execution_count": 36,
   "metadata": {},
   "outputs": [
    {
     "name": "stdout",
     "output_type": "stream",
     "text": [
      "Akurasi Model: 24.41%\n"
     ]
    }
   ],
   "source": [
    "# Memuat model\n",
    "model_path = \"model/svm_20_new_model_0.47.pkl\"\n",
    "model_svm = joblib.load(model_path)\n",
    "\n",
    "# Evaluasi model dengan dataset test\n",
    "accuracy, y_true, y_pred = evaluate_model(test_folder, model_svm)\n",
    "\n",
    "# Tampilkan hasil\n",
    "print(f\"Akurasi Model: {accuracy * 100:.2f}%\")"
   ]
  },
  {
   "cell_type": "markdown",
   "metadata": {},
   "source": [
    "### RF"
   ]
  },
  {
   "cell_type": "code",
   "execution_count": 37,
   "metadata": {},
   "outputs": [
    {
     "name": "stdout",
     "output_type": "stream",
     "text": [
      "Akurasi Model: 24.41%\n"
     ]
    }
   ],
   "source": [
    "# Memuat model\n",
    "model_path = \"model/rf_20_new_model_0.55.pkl\"\n",
    "model_rf = joblib.load(model_path)\n",
    "\n",
    "# Evaluasi model dengan dataset test\n",
    "accuracy, y_true, y_pred = evaluate_model(test_folder, model_rf)\n",
    "\n",
    "# Tampilkan hasil\n",
    "print(f\"Akurasi Model: {accuracy * 100:.2f}%\")"
   ]
  },
  {
   "cell_type": "markdown",
   "metadata": {},
   "source": [
    "# Cek"
   ]
  },
  {
   "cell_type": "code",
   "execution_count": 38,
   "metadata": {},
   "outputs": [
    {
     "name": "stdout",
     "output_type": "stream",
     "text": [
      "Age Range 0\n",
      "image 20\n",
      "Prediksi Label NN: 5\n",
      "Prediksi Label SVM: 1\n",
      "Prediksi Label RF: 1\n",
      "\n",
      "image 21\n",
      "Prediksi Label NN: 1\n",
      "Prediksi Label SVM: 1\n",
      "Prediksi Label RF: 1\n",
      "\n",
      "image 22\n",
      "Prediksi Label NN: 5\n",
      "Prediksi Label SVM: 5\n",
      "Prediksi Label RF: 5\n",
      "\n",
      "image 23\n",
      "Prediksi Label NN: 1\n",
      "Prediksi Label SVM: 5\n",
      "Prediksi Label RF: 5\n",
      "\n",
      "image 24\n",
      "Prediksi Label NN: 5\n",
      "Prediksi Label SVM: 5\n",
      "Prediksi Label RF: 5\n",
      "\n",
      "image 25\n",
      "Prediksi Label NN: 5\n",
      "Prediksi Label SVM: 5\n",
      "Prediksi Label RF: 5\n",
      "\n",
      "image 26\n",
      "Prediksi Label NN: 1\n",
      "Prediksi Label SVM: 5\n",
      "Prediksi Label RF: 5\n",
      "\n",
      "image 27\n",
      "Prediksi Label NN: 1\n",
      "Prediksi Label SVM: 0\n",
      "Prediksi Label RF: 0\n",
      "\n",
      "image 28\n",
      "Prediksi Label NN: 5\n",
      "Prediksi Label SVM: 1\n",
      "Prediksi Label RF: 1\n",
      "\n"
     ]
    }
   ],
   "source": [
    "print(\"Age Range 0\")\n",
    "# Memanggil gambar\n",
    "for i in range(20, 29):\n",
    "    image_path = f'assets/test/0/{i}.jpg'  # Update this path as needed\n",
    "    predicted_label_nn = classify_image(image_path, model_nn, test=True)\n",
    "    predicted_label_svm = classify_image(image_path, model_svm, test=True)\n",
    "    predicted_label_rf = classify_image(image_path, model_rf, test=True)\n",
    "    print(f\"image {i}\")\n",
    "    print(f\"Prediksi Label NN: {predicted_label_nn}\")\n",
    "    print(f\"Prediksi Label SVM: {predicted_label_svm}\")\n",
    "    print(f\"Prediksi Label RF: {predicted_label_rf}\")\n",
    "    print()"
   ]
  },
  {
   "cell_type": "code",
   "execution_count": 39,
   "metadata": {},
   "outputs": [
    {
     "name": "stdout",
     "output_type": "stream",
     "text": [
      "Age Range 1\n",
      "image 20\n",
      "Prediksi Label NN: 1\n",
      "Prediksi Label SVM: 0\n",
      "Prediksi Label RF: 0\n",
      "\n",
      "image 21\n",
      "Prediksi Label NN: 1\n",
      "Prediksi Label SVM: 5\n",
      "Prediksi Label RF: 5\n",
      "\n",
      "image 22\n",
      "Prediksi Label NN: 5\n",
      "Prediksi Label SVM: 5\n",
      "Prediksi Label RF: 5\n",
      "\n",
      "image 23\n",
      "Prediksi Label NN: 1\n",
      "Prediksi Label SVM: 0\n",
      "Prediksi Label RF: 0\n",
      "\n",
      "image 24\n",
      "Prediksi Label NN: 1\n",
      "Prediksi Label SVM: 5\n",
      "Prediksi Label RF: 5\n",
      "\n",
      "image 25\n",
      "Prediksi Label NN: 5\n",
      "Prediksi Label SVM: 5\n",
      "Prediksi Label RF: 5\n",
      "\n",
      "image 26\n",
      "Prediksi Label NN: 1\n",
      "Prediksi Label SVM: 5\n",
      "Prediksi Label RF: 5\n",
      "\n",
      "image 27\n",
      "Prediksi Label NN: 5\n",
      "Prediksi Label SVM: 5\n",
      "Prediksi Label RF: 5\n",
      "\n",
      "image 28\n",
      "Prediksi Label NN: 5\n",
      "Prediksi Label SVM: 5\n",
      "Prediksi Label RF: 5\n",
      "\n"
     ]
    }
   ],
   "source": [
    "print(\"Age Range 1\")\n",
    "# Memanggil gambar\n",
    "for i in range(20, 29):\n",
    "    image_path = f'assets/test/1/{i}.jpg'  # Update this path as needed\n",
    "    predicted_label_nn = classify_image(image_path, model_nn, test=True)\n",
    "    predicted_label_svm = classify_image(image_path, model_svm, test=True)\n",
    "    predicted_label_rf = classify_image(image_path, model_rf, test=True)\n",
    "    print(f\"image {i}\")\n",
    "    print(f\"Prediksi Label NN: {predicted_label_nn}\")\n",
    "    print(f\"Prediksi Label SVM: {predicted_label_svm}\")\n",
    "    print(f\"Prediksi Label RF: {predicted_label_rf}\")\n",
    "    print()"
   ]
  },
  {
   "cell_type": "code",
   "execution_count": 40,
   "metadata": {},
   "outputs": [
    {
     "name": "stdout",
     "output_type": "stream",
     "text": [
      "Age Range 2\n",
      "image 20\n",
      "Prediksi Label NN: 5\n",
      "Prediksi Label SVM: 5\n",
      "Prediksi Label RF: 5\n",
      "\n",
      "image 21\n",
      "Prediksi Label NN: 1\n",
      "Prediksi Label SVM: 0\n",
      "Prediksi Label RF: 0\n",
      "\n",
      "image 22\n",
      "Prediksi Label NN: 5\n",
      "Prediksi Label SVM: 5\n",
      "Prediksi Label RF: 5\n",
      "\n",
      "image 23\n",
      "Prediksi Label NN: 1\n",
      "Prediksi Label SVM: 5\n",
      "Prediksi Label RF: 5\n",
      "\n",
      "image 24\n",
      "Prediksi Label NN: 5\n",
      "Prediksi Label SVM: 5\n",
      "Prediksi Label RF: 5\n",
      "\n",
      "image 25\n",
      "Prediksi Label NN: 1\n",
      "Prediksi Label SVM: 5\n",
      "Prediksi Label RF: 5\n",
      "\n",
      "image 26\n",
      "Prediksi Label NN: 5\n",
      "Prediksi Label SVM: 5\n",
      "Prediksi Label RF: 5\n",
      "\n",
      "image 27\n",
      "Prediksi Label NN: 1\n",
      "Prediksi Label SVM: 5\n",
      "Prediksi Label RF: 5\n",
      "\n",
      "image 28\n",
      "Prediksi Label NN: 5\n",
      "Prediksi Label SVM: 5\n",
      "Prediksi Label RF: 5\n",
      "\n"
     ]
    }
   ],
   "source": [
    "print(\"Age Range 2\")\n",
    "# Memanggil gambar\n",
    "for i in range(20, 29):\n",
    "    image_path = f'assets/test/2/{i}.jpg'  # Update this path as needed\n",
    "    predicted_label_nn = classify_image(image_path, model_nn, test=True)\n",
    "    predicted_label_svm = classify_image(image_path, model_svm, test=True)\n",
    "    predicted_label_rf = classify_image(image_path, model_rf, test=True)\n",
    "    print(f\"image {i}\")\n",
    "    print(f\"Prediksi Label NN: {predicted_label_nn}\")\n",
    "    print(f\"Prediksi Label SVM: {predicted_label_svm}\")\n",
    "    print(f\"Prediksi Label RF: {predicted_label_rf}\")\n",
    "    print()"
   ]
  },
  {
   "cell_type": "code",
   "execution_count": 41,
   "metadata": {},
   "outputs": [
    {
     "name": "stdout",
     "output_type": "stream",
     "text": [
      "Age Range 3\n",
      "image 20\n",
      "Prediksi Label NN: 5\n",
      "Prediksi Label SVM: 5\n",
      "Prediksi Label RF: 5\n",
      "\n",
      "image 21\n",
      "Prediksi Label NN: 5\n",
      "Prediksi Label SVM: 5\n",
      "Prediksi Label RF: 5\n",
      "\n",
      "image 22\n",
      "Prediksi Label NN: 5\n",
      "Prediksi Label SVM: 5\n",
      "Prediksi Label RF: 5\n",
      "\n",
      "image 23\n",
      "Prediksi Label NN: 1\n",
      "Prediksi Label SVM: 5\n",
      "Prediksi Label RF: 5\n",
      "\n",
      "image 24\n",
      "Prediksi Label NN: 0\n",
      "Prediksi Label SVM: 0\n",
      "Prediksi Label RF: 0\n",
      "\n",
      "image 25\n",
      "Prediksi Label NN: 5\n",
      "Prediksi Label SVM: 5\n",
      "Prediksi Label RF: 5\n",
      "\n",
      "image 26\n",
      "Prediksi Label NN: 5\n",
      "Prediksi Label SVM: 5\n",
      "Prediksi Label RF: 5\n",
      "\n",
      "image 27\n",
      "Prediksi Label NN: 5\n",
      "Prediksi Label SVM: 5\n",
      "Prediksi Label RF: 5\n",
      "\n",
      "image 28\n",
      "Prediksi Label NN: 0\n",
      "Prediksi Label SVM: 0\n",
      "Prediksi Label RF: 0\n",
      "\n"
     ]
    }
   ],
   "source": [
    "print(\"Age Range 3\")\n",
    "# Memanggil gambar\n",
    "for i in range(20, 29):\n",
    "    image_path = f'assets/test/3/{i}.jpg'  # Update this path as needed\n",
    "    predicted_label_nn = classify_image(image_path, model_nn, test=True)\n",
    "    predicted_label_svm = classify_image(image_path, model_svm, test=True)\n",
    "    predicted_label_rf = classify_image(image_path, model_rf, test=True)\n",
    "    print(f\"image {i}\")\n",
    "    print(f\"Prediksi Label NN: {predicted_label_nn}\")\n",
    "    print(f\"Prediksi Label SVM: {predicted_label_svm}\")\n",
    "    print(f\"Prediksi Label RF: {predicted_label_rf}\")\n",
    "    print()"
   ]
  },
  {
   "cell_type": "code",
   "execution_count": 42,
   "metadata": {},
   "outputs": [
    {
     "name": "stdout",
     "output_type": "stream",
     "text": [
      "Age Range 4\n",
      "image 20\n",
      "Prediksi Label NN: 0\n",
      "Prediksi Label SVM: 5\n",
      "Prediksi Label RF: 5\n",
      "\n",
      "image 21\n",
      "Prediksi Label NN: 5\n",
      "Prediksi Label SVM: 5\n",
      "Prediksi Label RF: 5\n",
      "\n",
      "image 22\n",
      "Prediksi Label NN: 4\n",
      "Prediksi Label SVM: 4\n",
      "Prediksi Label RF: 4\n",
      "\n",
      "image 23\n",
      "Prediksi Label NN: 1\n",
      "Prediksi Label SVM: 5\n",
      "Prediksi Label RF: 5\n",
      "\n",
      "image 24\n",
      "Prediksi Label NN: 5\n",
      "Prediksi Label SVM: 5\n",
      "Prediksi Label RF: 5\n",
      "\n",
      "image 25\n",
      "Prediksi Label NN: 5\n",
      "Prediksi Label SVM: 5\n",
      "Prediksi Label RF: 5\n",
      "\n",
      "image 26\n",
      "Prediksi Label NN: 5\n",
      "Prediksi Label SVM: 5\n",
      "Prediksi Label RF: 5\n",
      "\n",
      "image 27\n",
      "Prediksi Label NN: 5\n",
      "Prediksi Label SVM: 5\n",
      "Prediksi Label RF: 5\n",
      "\n",
      "image 28\n",
      "Prediksi Label NN: 1\n",
      "Prediksi Label SVM: 5\n",
      "Prediksi Label RF: 5\n",
      "\n"
     ]
    }
   ],
   "source": [
    "print(\"Age Range 4\")\n",
    "# Memanggil gambar\n",
    "for i in range(20, 29):\n",
    "    image_path = f'assets/test/4/{i}.jpg'  # Update this path as needed\n",
    "    predicted_label_nn = classify_image(image_path, model_nn, test=True)\n",
    "    predicted_label_svm = classify_image(image_path, model_svm, test=True)\n",
    "    predicted_label_rf = classify_image(image_path, model_rf, test=True)\n",
    "    print(f\"image {i}\")\n",
    "    print(f\"Prediksi Label NN: {predicted_label_nn}\")\n",
    "    print(f\"Prediksi Label SVM: {predicted_label_svm}\")\n",
    "    print(f\"Prediksi Label RF: {predicted_label_rf}\")\n",
    "    print()"
   ]
  },
  {
   "cell_type": "code",
   "execution_count": 43,
   "metadata": {},
   "outputs": [
    {
     "name": "stdout",
     "output_type": "stream",
     "text": [
      "Age Range 5\n",
      "image 20\n",
      "Prediksi Label NN: 5\n",
      "Prediksi Label SVM: 1\n",
      "Prediksi Label RF: 1\n",
      "\n",
      "image 21\n",
      "Prediksi Label NN: 1\n",
      "Prediksi Label SVM: 5\n",
      "Prediksi Label RF: 5\n",
      "\n",
      "image 22\n",
      "Prediksi Label NN: 1\n",
      "Prediksi Label SVM: 5\n",
      "Prediksi Label RF: 5\n",
      "\n",
      "image 23\n",
      "Prediksi Label NN: 5\n",
      "Prediksi Label SVM: 5\n",
      "Prediksi Label RF: 5\n",
      "\n",
      "image 24\n",
      "Prediksi Label NN: 5\n",
      "Prediksi Label SVM: 1\n",
      "Prediksi Label RF: 1\n",
      "\n",
      "image 25\n",
      "Prediksi Label NN: 0\n",
      "Prediksi Label SVM: 5\n",
      "Prediksi Label RF: 5\n",
      "\n",
      "image 26\n",
      "Prediksi Label NN: 3\n",
      "Prediksi Label SVM: 1\n",
      "Prediksi Label RF: 1\n",
      "\n",
      "image 27\n",
      "Prediksi Label NN: 5\n",
      "Prediksi Label SVM: 5\n",
      "Prediksi Label RF: 5\n",
      "\n",
      "image 28\n",
      "Prediksi Label NN: 5\n",
      "Prediksi Label SVM: 5\n",
      "Prediksi Label RF: 5\n",
      "\n"
     ]
    }
   ],
   "source": [
    "print(\"Age Range 5\")\n",
    "# Memanggil gambar\n",
    "for i in range(20, 29):\n",
    "    image_path = f'assets/test/5/{i}.jpg'  # Update this path as needed\n",
    "    predicted_label_nn = classify_image(image_path, model_nn, test=True)\n",
    "    predicted_label_svm = classify_image(image_path, model_svm, test=True)\n",
    "    predicted_label_rf = classify_image(image_path, model_rf, test=True)\n",
    "    print(f\"image {i}\")\n",
    "    print(f\"Prediksi Label NN: {predicted_label_nn}\")\n",
    "    print(f\"Prediksi Label SVM: {predicted_label_svm}\")\n",
    "    print(f\"Prediksi Label RF: {predicted_label_rf}\")\n",
    "    print()"
   ]
  }
 ],
 "metadata": {
  "colab": {
   "provenance": []
  },
  "kernelspec": {
   "display_name": "base",
   "language": "python",
   "name": "python3"
  },
  "language_info": {
   "codemirror_mode": {
    "name": "ipython",
    "version": 3
   },
   "file_extension": ".py",
   "mimetype": "text/x-python",
   "name": "python",
   "nbconvert_exporter": "python",
   "pygments_lexer": "ipython3",
   "version": "3.12.3"
  }
 },
 "nbformat": 4,
 "nbformat_minor": 0
}
