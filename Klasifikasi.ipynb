{
 "cells": [
  {
   "cell_type": "code",
   "execution_count": 1,
   "metadata": {
    "id": "Q_M1IO4GgZQi"
   },
   "outputs": [],
   "source": [
    "import os\n",
    "import cv2\n",
    "import numpy as np\n",
    "import pandas as pd\n",
    "from skimage.feature import local_binary_pattern, hog\n",
    "from skimage.filters import gabor\n",
    "from skimage.transform import resize\n",
    "from skimage.util import img_as_ubyte\n",
    "from sklearn.ensemble import RandomForestRegressor\n",
    "from sklearn.metrics import mean_absolute_error\n",
    "from sklearn.preprocessing import StandardScaler"
   ]
  },
  {
   "cell_type": "markdown",
   "metadata": {
    "id": "jiMddsZczT2o"
   },
   "source": [
    "## **Ekstrasi Fitur**"
   ]
  },
  {
   "cell_type": "code",
   "execution_count": 2,
   "metadata": {
    "id": "lqajuiO4tqdk"
   },
   "outputs": [],
   "source": [
    "# Ekstraksi fitur HOG\n",
    "def extract_hog_features(img, size=(200, 200)):\n",
    "    img_resized = resize(img, size, anti_aliasing=True)\n",
    "    features, _ = hog(\n",
    "        img_resized, \n",
    "        orientations=9, \n",
    "        pixels_per_cell=(8, 8), \n",
    "        cells_per_block=(2, 2),\n",
    "        block_norm='L2-Hys', \n",
    "        visualize=True,\n",
    "        channel_axis=None\n",
    "    )\n",
    "    return features\n",
    "\n",
    "# Ekstraksi fitur LBP\n",
    "def extract_lbp_features(img, size=(200, 200)):\n",
    "    img_resized = cv2.resize(img, size)\n",
    "    img_resized = img_as_ubyte(img_resized)\n",
    "    radius = 1\n",
    "    n_points = 8 * radius\n",
    "    lbp = local_binary_pattern(img_resized, n_points, radius, method='uniform')\n",
    "    \n",
    "    hist, _ = np.histogram(\n",
    "        lbp.ravel(),\n",
    "        bins=np.arange(0, n_points + 3),\n",
    "        range=(0, n_points + 2)\n",
    "    )\n",
    "    hist = hist.astype(\"float\")\n",
    "    hist /= (hist.sum() + 1e-6)\n",
    "    return hist\n",
    "\n",
    "# Ekstraksi fitur Gabor\n",
    "def extract_gabor_features(img, size=(200, 200)):\n",
    "    img_resized = resize(img, size, anti_aliasing=True)\n",
    "    filters = []\n",
    "    for theta in (0, np.pi / 4, np.pi / 2, 3 * np.pi / 4):  # Sudut orientasi\n",
    "        for frequency in (0.1, 0.2, 0.3):  # Frekuensi Gabor\n",
    "            real, _ = gabor(img_resized, frequency=frequency, theta=theta)\n",
    "            filters.append(np.mean(real))\n",
    "            filters.append(np.std(real))\n",
    "    return filters"
   ]
  },
  {
   "cell_type": "code",
   "execution_count": 3,
   "metadata": {
    "id": "J2tcwktoXskF"
   },
   "outputs": [],
   "source": [
    "# Gabungkan semua fitur\n",
    "def extract_features_from_image(img_path, size=(200, 200)):\n",
    "    img = cv2.imread(img_path, cv2.IMREAD_GRAYSCALE)\n",
    "    if img is None:\n",
    "        return np.array([])  # Jika gambar tidak valid, return array kosong\n",
    "    \n",
    "    # Ekstraksi fitur\n",
    "    hog_features = extract_hog_features(img, size)\n",
    "    lbp_features = extract_lbp_features(img, size)\n",
    "    gabor_features = extract_gabor_features(img, size)\n",
    "    \n",
    "    # Gabungkan semua fitur\n",
    "    return np.hstack([hog_features, lbp_features, gabor_features])"
   ]
  },
  {
   "cell_type": "markdown",
   "metadata": {},
   "source": [
    "# Akurasi"
   ]
  },
  {
   "cell_type": "code",
   "execution_count": 5,
   "metadata": {},
   "outputs": [
    {
     "name": "stdout",
     "output_type": "stream",
     "text": [
      "Akurasi Model: 17.09%\n"
     ]
    }
   ],
   "source": [
    "import os\n",
    "import joblib\n",
    "import pandas as pd\n",
    "from sklearn.metrics import accuracy_score\n",
    "\n",
    "# Fungsi untuk membaca dataset lokal dan menyiapkan filepath serta label\n",
    "def load_dataset(folder_path):\n",
    "    data = []\n",
    "    for root, _, files in os.walk(folder_path):\n",
    "        for file_name in files:\n",
    "            if file_name.lower().endswith(('.jpg', '.jpeg', '.png')):\n",
    "                file_path = os.path.join(root, file_name)\n",
    "                # Ekstrak label dari angka sebelum ekstensi\n",
    "                label = int(file_name.split('_')[-1].split('.')[0])\n",
    "                data.append((file_path, label))  # Path dan label\n",
    "    return pd.DataFrame(data, columns=['filepath', 'label'])\n",
    "\n",
    "# Fungsi untuk memproses dataset dan menghitung akurasi\n",
    "def evaluate_model(folder_path, model):\n",
    "    data = load_dataset(folder_path)\n",
    "    y_true = []\n",
    "    y_pred = []\n",
    "\n",
    "    for _, row in data.iterrows():\n",
    "        image_path = row['filepath']\n",
    "        true_label = row['label']\n",
    "        \n",
    "        # Ekstraksi fitur gambar\n",
    "        features = extract_features_from_image(image_path)\n",
    "        features = features.reshape(1, -1)  # Reshape untuk model\n",
    "\n",
    "        # Prediksi dengan augmentasi dan tanpa augmentasi\n",
    "        predicted_label_original = model.predict(features)[0]\n",
    "\n",
    "        # Menambahkan hasil prediksi ke daftar\n",
    "        y_true.append(true_label)\n",
    "        y_pred.append(predicted_label_original)\n",
    "\n",
    "    # Hitung akurasi\n",
    "    accuracy = accuracy_score(y_true, y_pred)\n",
    "    return accuracy, y_true, y_pred\n",
    "\n",
    "# Path dataset lokal\n",
    "train_folder = 'dataset/final_dataset/train'\n",
    "test_folder = 'dataset/final_dataset/test'\n",
    "\n",
    "# Memuat model\n",
    "model_path = \"model/xgboost_hog_lbp_model_acc_0.66.pkl\"\n",
    "model_xgb = joblib.load(model_path)\n",
    "\n",
    "# Evaluasi model dengan dataset test\n",
    "accuracy, y_true, y_pred = evaluate_model(test_folder, model_xgb)\n",
    "\n",
    "# Tampilkan hasil\n",
    "print(f\"Akurasi Model: {accuracy * 100:.2f}%\")"
   ]
  }
 ],
 "metadata": {
  "colab": {
   "provenance": []
  },
  "kernelspec": {
   "display_name": "base",
   "language": "python",
   "name": "python3"
  },
  "language_info": {
   "codemirror_mode": {
    "name": "ipython",
    "version": 3
   },
   "file_extension": ".py",
   "mimetype": "text/x-python",
   "name": "python",
   "nbconvert_exporter": "python",
   "pygments_lexer": "ipython3",
   "version": "3.12.3"
  }
 },
 "nbformat": 4,
 "nbformat_minor": 0
}
