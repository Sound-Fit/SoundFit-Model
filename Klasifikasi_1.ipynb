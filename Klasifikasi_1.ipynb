{
 "cells": [
  {
   "cell_type": "code",
   "execution_count": 16,
   "metadata": {
    "id": "Q_M1IO4GgZQi"
   },
   "outputs": [],
   "source": [
    "import numpy as np\n",
    "import cv2 as cv\n",
    "from skimage.feature import canny\n",
    "\n",
    "from sklearn.utils import shuffle\n",
    "from sklearn.model_selection import train_test_split\n",
    "from sklearn.preprocessing import StandardScaler\n",
    "from sklearn.model_selection import train_test_split, cross_val_score, GridSearchCV\n",
    "from sklearn.svm import SVC\n",
    "from sklearn.metrics import confusion_matrix\n",
    "\n",
    "import joblib"
   ]
  },
  {
   "cell_type": "markdown",
   "metadata": {
    "id": "jiMddsZczT2o"
   },
   "source": [
    "## **Ekstrasi Fitur**"
   ]
  },
  {
   "cell_type": "code",
   "execution_count": 2,
   "metadata": {
    "id": "lqajuiO4tqdk"
   },
   "outputs": [],
   "source": [
    "def face_recognition(image_path):\n",
    "    # Memuat Haar Cascade untuk deteksi wajah manusia atau kucing (Jika ada)\n",
    "    # cascade_wajah = cv.CascadeClassifier('/content/drive/MyDrive/PCVK_2024/Images/haarcascades/haarcascade_frontalface_default.xml')\n",
    "    cascade_wajah = cv.CascadeClassifier('input_output/haarcascade_frontalface_default.xml')\n",
    "\n",
    "    # Membaca Gambar\n",
    "    image = cv.imread(image_path)\n",
    "\n",
    "    # Mengubah gambar menjadi grayscale\n",
    "    gray = cv.cvtColor(image, cv.COLOR_BGR2GRAY)\n",
    "\n",
    "    # scaleFactor: Faktor skala untuk memperkecil gambar setiap proses deteksi.\n",
    "    # minNeighbors: Jumlah minimum tetangga yang diperlukan untuk validasi objek.\n",
    "    # minSize: Ukuran minimum objek yang akan dideteksi.\n",
    "    faces = cascade_wajah.detectMultiScale(gray, scaleFactor=1.1, minNeighbors=5, minSize=(30, 30))\n",
    "\n",
    "    # Wajah tidak terdeteksi\n",
    "    if len(faces) == 0:\n",
    "        print(\"Wajah tidak terdeteksi!\")\n",
    "        return None\n",
    "\n",
    "    # Memproses setiap wajah yang terdeteksi\n",
    "    for (x, y, w, h) in faces:\n",
    "        # Memotong gambar sesuai area deteksi wajah\n",
    "        face_crop = image[y:y+h, x:x+w]\n",
    "\n",
    "    return face_crop"
   ]
  },
  {
   "cell_type": "code",
   "execution_count": 3,
   "metadata": {
    "id": "J2tcwktoXskF"
   },
   "outputs": [],
   "source": [
    "import random\n",
    "\n",
    "def augment_image(image):\n",
    "    augmented_image = image.copy()\n",
    "\n",
    "    # Random horizontal flip\n",
    "    if random.random() > 0.5:\n",
    "        augmented_image = cv.flip(augmented_image, 1)\n",
    "\n",
    "    # Random brightness/contrast adjustment\n",
    "    if random.random() > 0.5:\n",
    "        alpha = random.uniform(0.7, 1.3)  # Random contrast factor\n",
    "        beta = random.randint(-50, 50)    # Random brightness factor\n",
    "        augmented_image = cv.convertScaleAbs(augmented_image, alpha=alpha, beta=beta)\n",
    "\n",
    "    # Random rotation (±15 degrees)\n",
    "    if random.random() > 0.5:\n",
    "        angle = random.randint(-15, 15)  # Random angle for rotation\n",
    "        h, w = augmented_image.shape[:2]\n",
    "        center = (w // 2, h // 2)\n",
    "        rotation_matrix = cv.getRotationMatrix2D(center, angle, 1.0)\n",
    "        augmented_image = cv.warpAffine(augmented_image, rotation_matrix, (w, h))\n",
    "\n",
    "    # Random Gaussian blur\n",
    "    if random.random() > 0.5:\n",
    "        ksize = random.choice([3, 5, 7])  # Random kernel size\n",
    "        augmented_image = cv.GaussianBlur(augmented_image, (ksize, ksize), 0)\n",
    "\n",
    "    return augmented_image"
   ]
  },
  {
   "cell_type": "code",
   "execution_count": 4,
   "metadata": {
    "id": "UzsgB0rJw3aY"
   },
   "outputs": [],
   "source": [
    "def features_grid(img):\n",
    "    features = np.array([], dtype='uint8')\n",
    "\n",
    "    for y in range(0, img.shape[0], 10):\n",
    "        for x in range(0, img.shape[1], 10):\n",
    "\n",
    "            # Cropping the image into a section.\n",
    "            section_img = img[y:y+10, x:x+10]\n",
    "\n",
    "            # Claculating the mean and stdev of the sectioned image.\n",
    "            section_mean = np.mean(section_img)\n",
    "            section_std = np.std(section_img)\n",
    "\n",
    "            # Appending the above calculated values into features array.\n",
    "            features = np.append(features, [section_mean, section_std])\n",
    "\n",
    "    # Returning the features array.\n",
    "    return features"
   ]
  },
  {
   "cell_type": "code",
   "execution_count": 5,
   "metadata": {
    "id": "TxdXverTvJ5z"
   },
   "outputs": [],
   "source": [
    "def extract_canny_edges(image_path, augment=False):\n",
    "    img = face_recognition(image_path)\n",
    "    if img is None:\n",
    "        return None\n",
    "\n",
    "    if augment:\n",
    "        img = augment_image(img)\n",
    "\n",
    "    # Mengonversi gambar ke grayscale\n",
    "    img = cv.cvtColor(img, cv.COLOR_BGR2GRAY)\n",
    "\n",
    "    # Meresize gambar ke ukuran 200x200 piksel\n",
    "    img = cv.resize(img, (200, 200))\n",
    "\n",
    "    # Mengonversi gambar ke gambar dengan filter canny\n",
    "    img = canny(img, sigma=0.9)\n",
    "\n",
    "    # Ekstraksi fitur (mean dan stdev dari grid 10x10 piksel)\n",
    "    img_features = features_grid(img)\n",
    "\n",
    "    return img_features"
   ]
  },
  {
   "cell_type": "code",
   "execution_count": 6,
   "metadata": {
    "id": "0sYZRp9MX6st"
   },
   "outputs": [],
   "source": [
    "def classify_image(image_path, model, augment=False):\n",
    "    \"\"\"\n",
    "    Fungsi untuk mengklasifikasikan gambar menggunakan model yang telah dilatih.\n",
    "    \"\"\"\n",
    "    features = extract_canny_edges(image_path, augment=augment)\n",
    "\n",
    "    if features is None:\n",
    "        return \"Wajah tidak terdeteksi!\"\n",
    "\n",
    "    features = features.reshape(1, -1)\n",
    "    label = model.predict(features)[0]\n",
    "    return label"
   ]
  },
  {
   "cell_type": "code",
   "execution_count": 7,
   "metadata": {
    "id": "GHBOloqCchNO"
   },
   "outputs": [],
   "source": [
    "import matplotlib.pyplot as plt\n",
    "\n",
    "# Fungsi untuk menampilkan gambar dengan ukuran lebih kecil\n",
    "def display_image(image, title=\"Image\", figsize=(10, 10)):\n",
    "    plt.figure(figsize=figsize)\n",
    "    plt.imshow(cv.cvtColor(image, cv.COLOR_BGR2RGB))\n",
    "    plt.title(title)\n",
    "    plt.axis('off')\n",
    "    plt.show()"
   ]
  },
  {
   "cell_type": "markdown",
   "metadata": {},
   "source": [
    "# Akurasi"
   ]
  },
  {
   "cell_type": "markdown",
   "metadata": {},
   "source": [
    "### XGBOOST"
   ]
  },
  {
   "cell_type": "code",
   "execution_count": 9,
   "metadata": {},
   "outputs": [
    {
     "name": "stdout",
     "output_type": "stream",
     "text": [
      "Akurasi Model: 10.00%\n"
     ]
    }
   ],
   "source": [
    "import os\n",
    "import pandas as pd\n",
    "from sklearn.metrics import accuracy_score\n",
    "\n",
    "# Fungsi untuk membaca dataset lokal dan menyiapkan filepath serta label\n",
    "def load_dataset(folder_path):\n",
    "    data = []\n",
    "    for label in os.listdir(folder_path):\n",
    "        label_path = os.path.join(folder_path, label)\n",
    "        if os.path.isdir(label_path):  # Pastikan hanya memproses folder\n",
    "            for file_name in os.listdir(label_path):\n",
    "                if file_name.lower().endswith(('.jpg', '.jpeg', '.png')):\n",
    "                    file_path = os.path.join(label_path, file_name)\n",
    "                    data.append((file_path, int(label)))  # Path dan label\n",
    "    return pd.DataFrame(data, columns=['filepath', 'label'])\n",
    "\n",
    "# Fungsi untuk memproses dataset dan menghitung akurasi\n",
    "def evaluate_model(folder_path, model):\n",
    "    data = load_dataset(folder_path)\n",
    "    y_true = []\n",
    "    y_pred = []\n",
    "\n",
    "    for _, row in data.iterrows():\n",
    "        image_path = row['filepath']\n",
    "        true_label = row['label']\n",
    "\n",
    "        # Prediksi dengan augmentasi dan tanpa augmentasi\n",
    "        predicted_label_original = classify_image(image_path, model, augment=False)\n",
    "        # predicted_label_augmented = classify_image(image_path, model, augment=True)\n",
    "\n",
    "        # Menambahkan hasil prediksi ke daftar\n",
    "        y_true.append(true_label)\n",
    "        y_pred.append(predicted_label_original)\n",
    "\n",
    "    # Hitung akurasi\n",
    "    accuracy = accuracy_score(y_true, y_pred)\n",
    "    return accuracy, y_true, y_pred\n",
    "\n",
    "# Path dataset lokal\n",
    "train_folder = 'assets/train'\n",
    "test_folder = 'assets/test'\n",
    "\n",
    "# Memuat model\n",
    "model_path = \"model/new_xgboost_canny_model_acc_0.23.pkl\"\n",
    "model_xgb = joblib.load(model_path)\n",
    "\n",
    "# Evaluasi model dengan dataset test\n",
    "accuracy, y_true, y_pred = evaluate_model(test_folder, model_xgb)\n",
    "\n",
    "# Tampilkan hasil\n",
    "print(f\"Akurasi Model: {accuracy * 100:.2f}%\")"
   ]
  },
  {
   "cell_type": "markdown",
   "metadata": {},
   "source": [
    "### SVM"
   ]
  },
  {
   "cell_type": "code",
   "execution_count": 10,
   "metadata": {},
   "outputs": [
    {
     "name": "stdout",
     "output_type": "stream",
     "text": [
      "Akurasi Model: 20.00%\n"
     ]
    }
   ],
   "source": [
    "# Memuat model\n",
    "model_path = \"model/new_svm_canny_model_acc_0.27.pkl\"\n",
    "model_svm = joblib.load(model_path)\n",
    "\n",
    "# Evaluasi model dengan dataset test\n",
    "accuracy, y_true, y_pred = evaluate_model(test_folder, model_svm)\n",
    "\n",
    "# Tampilkan hasil\n",
    "print(f\"Akurasi Model: {accuracy * 100:.2f}%\")"
   ]
  },
  {
   "cell_type": "markdown",
   "metadata": {},
   "source": [
    "### RF"
   ]
  },
  {
   "cell_type": "code",
   "execution_count": 11,
   "metadata": {},
   "outputs": [
    {
     "name": "stdout",
     "output_type": "stream",
     "text": [
      "Akurasi Model: 20.00%\n"
     ]
    }
   ],
   "source": [
    "# Memuat model\n",
    "model_path = \"model/new_rf_canny_model_acc_0.2.pkl\"\n",
    "model_rf = joblib.load(model_path)\n",
    "\n",
    "# Evaluasi model dengan dataset test\n",
    "accuracy, y_true, y_pred = evaluate_model(test_folder, model_rf)\n",
    "\n",
    "# Tampilkan hasil\n",
    "print(f\"Akurasi Model: {accuracy * 100:.2f}%\")"
   ]
  },
  {
   "cell_type": "markdown",
   "metadata": {},
   "source": [
    "# Klasifikasi"
   ]
  },
  {
   "cell_type": "code",
   "execution_count": 15,
   "metadata": {},
   "outputs": [
    {
     "name": "stdout",
     "output_type": "stream",
     "text": [
      "Age Range 0\n",
      "image 20\n",
      "Prediksi Label (Augmented): 5\n",
      "Prediksi Label (Original): 5\n",
      "\n",
      "image 21\n",
      "Prediksi Label (Augmented): 5\n",
      "Prediksi Label (Original): 5\n",
      "\n",
      "image 22\n",
      "Prediksi Label (Augmented): 5\n",
      "Prediksi Label (Original): 5\n",
      "\n",
      "image 23\n",
      "Prediksi Label (Augmented): 5\n",
      "Prediksi Label (Original): 5\n",
      "\n",
      "image 24\n",
      "Prediksi Label (Augmented): 5\n",
      "Prediksi Label (Original): 5\n",
      "\n",
      "image 25\n",
      "Prediksi Label (Augmented): 5\n",
      "Prediksi Label (Original): 5\n",
      "\n",
      "image 26\n",
      "Prediksi Label (Augmented): 5\n",
      "Prediksi Label (Original): 5\n",
      "\n",
      "image 27\n",
      "Prediksi Label (Augmented): 5\n",
      "Prediksi Label (Original): 5\n",
      "\n",
      "image 28\n",
      "Prediksi Label (Augmented): 5\n",
      "Prediksi Label (Original): 5\n",
      "\n"
     ]
    }
   ],
   "source": [
    "print(\"Age Range 0\")\n",
    "# Memanggil gambar\n",
    "for i in range(20, 29):\n",
    "    image_path = f'assets/test/0/{i}.jpg'  # Update this path as needed\n",
    "    predicted_label_augmented = classify_image(image_path, model_svm, augment=True)\n",
    "    predicted_label_original = classify_image(image_path, model_svm, augment=False)\n",
    "    print(f\"image {i}\")\n",
    "    print(f\"Prediksi Label (Augmented): {predicted_label_augmented}\")\n",
    "    print(f\"Prediksi Label (Original): {predicted_label_original}\")\n",
    "    print()"
   ]
  },
  {
   "cell_type": "code",
   "execution_count": 14,
   "metadata": {},
   "outputs": [
    {
     "name": "stdout",
     "output_type": "stream",
     "text": [
      "Age Range 1\n",
      "image 20\n",
      "Prediksi Label (Augmented): 5\n",
      "Prediksi Label (Original): 5\n",
      "\n",
      "image 21\n",
      "Prediksi Label (Augmented): 5\n",
      "Prediksi Label (Original): 5\n",
      "\n",
      "image 22\n",
      "Prediksi Label (Augmented): 5\n",
      "Prediksi Label (Original): 5\n",
      "\n",
      "image 23\n",
      "Prediksi Label (Augmented): 5\n",
      "Prediksi Label (Original): 5\n",
      "\n",
      "image 24\n",
      "Prediksi Label (Augmented): 5\n",
      "Prediksi Label (Original): 5\n",
      "\n",
      "image 25\n",
      "Prediksi Label (Augmented): 5\n",
      "Prediksi Label (Original): 5\n",
      "\n",
      "image 26\n",
      "Prediksi Label (Augmented): 5\n",
      "Prediksi Label (Original): 5\n",
      "\n",
      "image 27\n",
      "Prediksi Label (Augmented): 5\n",
      "Prediksi Label (Original): 5\n",
      "\n",
      "image 28\n",
      "Prediksi Label (Augmented): 5\n",
      "Prediksi Label (Original): 5\n",
      "\n"
     ]
    }
   ],
   "source": [
    "print(\"Age Range 1\")\n",
    "# Memanggil gambar\n",
    "for i in range(20, 29):\n",
    "    image_path = f'assets/test/1/{i}.jpg'  # Update this path as needed\n",
    "    predicted_label_augmented = classify_image(image_path, model_svm, augment=True)\n",
    "    predicted_label_original = classify_image(image_path, model_svm, augment=False)\n",
    "    print(f\"image {i}\")\n",
    "    print(f\"Prediksi Label (Augmented): {predicted_label_augmented}\")\n",
    "    print(f\"Prediksi Label (Original): {predicted_label_original}\")\n",
    "    print()"
   ]
  },
  {
   "cell_type": "markdown",
   "metadata": {},
   "source": [
    "## Akurasi Model Old"
   ]
  },
  {
   "cell_type": "code",
   "execution_count": 17,
   "metadata": {},
   "outputs": [
    {
     "name": "stdout",
     "output_type": "stream",
     "text": [
      "Akurasi Model: 20.00%\n"
     ]
    }
   ],
   "source": [
    "import os\n",
    "import pandas as pd\n",
    "from sklearn.metrics import accuracy_score\n",
    "\n",
    "# Fungsi untuk membaca dataset lokal dan menyiapkan filepath serta label\n",
    "def load_dataset(folder_path):\n",
    "    data = []\n",
    "    for label in os.listdir(folder_path):\n",
    "        label_path = os.path.join(folder_path, label)\n",
    "        if os.path.isdir(label_path):  # Pastikan hanya memproses folder\n",
    "            for file_name in os.listdir(label_path):\n",
    "                if file_name.lower().endswith(('.jpg', '.jpeg', '.png')):\n",
    "                    file_path = os.path.join(label_path, file_name)\n",
    "                    data.append((file_path, int(label)))  # Path dan label\n",
    "    return pd.DataFrame(data, columns=['filepath', 'label'])\n",
    "\n",
    "# Fungsi untuk memproses dataset dan menghitung akurasi\n",
    "def evaluate_model(folder_path, model):\n",
    "    data = load_dataset(folder_path)\n",
    "    y_true = []\n",
    "    y_pred = []\n",
    "\n",
    "    for _, row in data.iterrows():\n",
    "        image_path = row['filepath']\n",
    "        true_label = row['label']\n",
    "\n",
    "        # Prediksi dengan augmentasi dan tanpa augmentasi\n",
    "        predicted_label_original = classify_image(image_path, model, augment=False)\n",
    "        # predicted_label_augmented = classify_image(image_path, model, augment=True)\n",
    "\n",
    "        # Menambahkan hasil prediksi ke daftar\n",
    "        y_true.append(true_label)\n",
    "        y_pred.append(predicted_label_original)\n",
    "\n",
    "    # Hitung akurasi\n",
    "    accuracy = accuracy_score(y_true, y_pred)\n",
    "    return accuracy, y_true, y_pred\n",
    "\n",
    "# Path dataset lokal\n",
    "train_folder = 'assets/train'\n",
    "test_folder = 'assets/test'\n",
    "\n",
    "# Memuat model\n",
    "model_path = \"input_output/xgboost_canny_model_acc_0.611.pkl\"\n",
    "model_xgb = joblib.load(model_path)\n",
    "\n",
    "# Evaluasi model dengan dataset test\n",
    "accuracy, y_true, y_pred = evaluate_model(test_folder, model_xgb)\n",
    "\n",
    "# Tampilkan hasil\n",
    "print(f\"Akurasi Model: {accuracy * 100:.2f}%\")"
   ]
  },
  {
   "cell_type": "code",
   "execution_count": 18,
   "metadata": {},
   "outputs": [
    {
     "name": "stderr",
     "output_type": "stream",
     "text": [
      "c:\\Users\\user\\anaconda3\\Lib\\site-packages\\sklearn\\base.py:376: InconsistentVersionWarning: Trying to unpickle estimator SVC from version 1.5.2 when using version 1.4.2. This might lead to breaking code or invalid results. Use at your own risk. For more info please refer to:\n",
      "https://scikit-learn.org/stable/model_persistence.html#security-maintainability-limitations\n",
      "  warnings.warn(\n",
      "c:\\Users\\user\\anaconda3\\Lib\\site-packages\\sklearn\\base.py:376: InconsistentVersionWarning: Trying to unpickle estimator GridSearchCV from version 1.5.2 when using version 1.4.2. This might lead to breaking code or invalid results. Use at your own risk. For more info please refer to:\n",
      "https://scikit-learn.org/stable/model_persistence.html#security-maintainability-limitations\n",
      "  warnings.warn(\n"
     ]
    },
    {
     "name": "stdout",
     "output_type": "stream",
     "text": [
      "Akurasi Model: 20.00%\n"
     ]
    }
   ],
   "source": [
    "# Memuat model\n",
    "model_path = \"input_output/svc_canny_model_acc_0.556.pkl\"\n",
    "model_xgb = joblib.load(model_path)\n",
    "\n",
    "# Evaluasi model dengan dataset test\n",
    "accuracy, y_true, y_pred = evaluate_model(test_folder, model_xgb)\n",
    "\n",
    "# Tampilkan hasil\n",
    "print(f\"Akurasi Model: {accuracy * 100:.2f}%\")"
   ]
  },
  {
   "cell_type": "code",
   "execution_count": 19,
   "metadata": {},
   "outputs": [
    {
     "name": "stderr",
     "output_type": "stream",
     "text": [
      "c:\\Users\\user\\anaconda3\\Lib\\site-packages\\sklearn\\base.py:376: InconsistentVersionWarning: Trying to unpickle estimator DecisionTreeClassifier from version 1.5.2 when using version 1.4.2. This might lead to breaking code or invalid results. Use at your own risk. For more info please refer to:\n",
      "https://scikit-learn.org/stable/model_persistence.html#security-maintainability-limitations\n",
      "  warnings.warn(\n",
      "c:\\Users\\user\\anaconda3\\Lib\\site-packages\\sklearn\\base.py:376: InconsistentVersionWarning: Trying to unpickle estimator RandomForestClassifier from version 1.5.2 when using version 1.4.2. This might lead to breaking code or invalid results. Use at your own risk. For more info please refer to:\n",
      "https://scikit-learn.org/stable/model_persistence.html#security-maintainability-limitations\n",
      "  warnings.warn(\n",
      "c:\\Users\\user\\anaconda3\\Lib\\site-packages\\sklearn\\base.py:493: UserWarning: X does not have valid feature names, but RandomForestClassifier was fitted with feature names\n",
      "  warnings.warn(\n",
      "c:\\Users\\user\\anaconda3\\Lib\\site-packages\\sklearn\\base.py:493: UserWarning: X does not have valid feature names, but RandomForestClassifier was fitted with feature names\n",
      "  warnings.warn(\n",
      "c:\\Users\\user\\anaconda3\\Lib\\site-packages\\sklearn\\base.py:493: UserWarning: X does not have valid feature names, but RandomForestClassifier was fitted with feature names\n",
      "  warnings.warn(\n",
      "c:\\Users\\user\\anaconda3\\Lib\\site-packages\\sklearn\\base.py:493: UserWarning: X does not have valid feature names, but RandomForestClassifier was fitted with feature names\n",
      "  warnings.warn(\n",
      "c:\\Users\\user\\anaconda3\\Lib\\site-packages\\sklearn\\base.py:493: UserWarning: X does not have valid feature names, but RandomForestClassifier was fitted with feature names\n",
      "  warnings.warn(\n",
      "c:\\Users\\user\\anaconda3\\Lib\\site-packages\\sklearn\\base.py:493: UserWarning: X does not have valid feature names, but RandomForestClassifier was fitted with feature names\n",
      "  warnings.warn(\n",
      "c:\\Users\\user\\anaconda3\\Lib\\site-packages\\sklearn\\base.py:493: UserWarning: X does not have valid feature names, but RandomForestClassifier was fitted with feature names\n",
      "  warnings.warn(\n",
      "c:\\Users\\user\\anaconda3\\Lib\\site-packages\\sklearn\\base.py:493: UserWarning: X does not have valid feature names, but RandomForestClassifier was fitted with feature names\n",
      "  warnings.warn(\n",
      "c:\\Users\\user\\anaconda3\\Lib\\site-packages\\sklearn\\base.py:493: UserWarning: X does not have valid feature names, but RandomForestClassifier was fitted with feature names\n",
      "  warnings.warn(\n",
      "c:\\Users\\user\\anaconda3\\Lib\\site-packages\\sklearn\\base.py:493: UserWarning: X does not have valid feature names, but RandomForestClassifier was fitted with feature names\n",
      "  warnings.warn(\n",
      "c:\\Users\\user\\anaconda3\\Lib\\site-packages\\sklearn\\base.py:493: UserWarning: X does not have valid feature names, but RandomForestClassifier was fitted with feature names\n",
      "  warnings.warn(\n",
      "c:\\Users\\user\\anaconda3\\Lib\\site-packages\\sklearn\\base.py:493: UserWarning: X does not have valid feature names, but RandomForestClassifier was fitted with feature names\n",
      "  warnings.warn(\n",
      "c:\\Users\\user\\anaconda3\\Lib\\site-packages\\sklearn\\base.py:493: UserWarning: X does not have valid feature names, but RandomForestClassifier was fitted with feature names\n",
      "  warnings.warn(\n",
      "c:\\Users\\user\\anaconda3\\Lib\\site-packages\\sklearn\\base.py:493: UserWarning: X does not have valid feature names, but RandomForestClassifier was fitted with feature names\n",
      "  warnings.warn(\n",
      "c:\\Users\\user\\anaconda3\\Lib\\site-packages\\sklearn\\base.py:493: UserWarning: X does not have valid feature names, but RandomForestClassifier was fitted with feature names\n",
      "  warnings.warn(\n",
      "c:\\Users\\user\\anaconda3\\Lib\\site-packages\\sklearn\\base.py:493: UserWarning: X does not have valid feature names, but RandomForestClassifier was fitted with feature names\n",
      "  warnings.warn(\n",
      "c:\\Users\\user\\anaconda3\\Lib\\site-packages\\sklearn\\base.py:493: UserWarning: X does not have valid feature names, but RandomForestClassifier was fitted with feature names\n",
      "  warnings.warn(\n",
      "c:\\Users\\user\\anaconda3\\Lib\\site-packages\\sklearn\\base.py:493: UserWarning: X does not have valid feature names, but RandomForestClassifier was fitted with feature names\n",
      "  warnings.warn(\n",
      "c:\\Users\\user\\anaconda3\\Lib\\site-packages\\sklearn\\base.py:493: UserWarning: X does not have valid feature names, but RandomForestClassifier was fitted with feature names\n",
      "  warnings.warn(\n",
      "c:\\Users\\user\\anaconda3\\Lib\\site-packages\\sklearn\\base.py:493: UserWarning: X does not have valid feature names, but RandomForestClassifier was fitted with feature names\n",
      "  warnings.warn(\n",
      "c:\\Users\\user\\anaconda3\\Lib\\site-packages\\sklearn\\base.py:493: UserWarning: X does not have valid feature names, but RandomForestClassifier was fitted with feature names\n",
      "  warnings.warn(\n",
      "c:\\Users\\user\\anaconda3\\Lib\\site-packages\\sklearn\\base.py:493: UserWarning: X does not have valid feature names, but RandomForestClassifier was fitted with feature names\n",
      "  warnings.warn(\n",
      "c:\\Users\\user\\anaconda3\\Lib\\site-packages\\sklearn\\base.py:493: UserWarning: X does not have valid feature names, but RandomForestClassifier was fitted with feature names\n",
      "  warnings.warn(\n",
      "c:\\Users\\user\\anaconda3\\Lib\\site-packages\\sklearn\\base.py:493: UserWarning: X does not have valid feature names, but RandomForestClassifier was fitted with feature names\n",
      "  warnings.warn(\n",
      "c:\\Users\\user\\anaconda3\\Lib\\site-packages\\sklearn\\base.py:493: UserWarning: X does not have valid feature names, but RandomForestClassifier was fitted with feature names\n",
      "  warnings.warn(\n",
      "c:\\Users\\user\\anaconda3\\Lib\\site-packages\\sklearn\\base.py:493: UserWarning: X does not have valid feature names, but RandomForestClassifier was fitted with feature names\n",
      "  warnings.warn(\n",
      "c:\\Users\\user\\anaconda3\\Lib\\site-packages\\sklearn\\base.py:493: UserWarning: X does not have valid feature names, but RandomForestClassifier was fitted with feature names\n",
      "  warnings.warn(\n",
      "c:\\Users\\user\\anaconda3\\Lib\\site-packages\\sklearn\\base.py:493: UserWarning: X does not have valid feature names, but RandomForestClassifier was fitted with feature names\n",
      "  warnings.warn(\n",
      "c:\\Users\\user\\anaconda3\\Lib\\site-packages\\sklearn\\base.py:493: UserWarning: X does not have valid feature names, but RandomForestClassifier was fitted with feature names\n",
      "  warnings.warn(\n",
      "c:\\Users\\user\\anaconda3\\Lib\\site-packages\\sklearn\\base.py:493: UserWarning: X does not have valid feature names, but RandomForestClassifier was fitted with feature names\n",
      "  warnings.warn(\n",
      "c:\\Users\\user\\anaconda3\\Lib\\site-packages\\sklearn\\base.py:493: UserWarning: X does not have valid feature names, but RandomForestClassifier was fitted with feature names\n",
      "  warnings.warn(\n",
      "c:\\Users\\user\\anaconda3\\Lib\\site-packages\\sklearn\\base.py:493: UserWarning: X does not have valid feature names, but RandomForestClassifier was fitted with feature names\n",
      "  warnings.warn(\n",
      "c:\\Users\\user\\anaconda3\\Lib\\site-packages\\sklearn\\base.py:493: UserWarning: X does not have valid feature names, but RandomForestClassifier was fitted with feature names\n",
      "  warnings.warn(\n",
      "c:\\Users\\user\\anaconda3\\Lib\\site-packages\\sklearn\\base.py:493: UserWarning: X does not have valid feature names, but RandomForestClassifier was fitted with feature names\n",
      "  warnings.warn(\n",
      "c:\\Users\\user\\anaconda3\\Lib\\site-packages\\sklearn\\base.py:493: UserWarning: X does not have valid feature names, but RandomForestClassifier was fitted with feature names\n",
      "  warnings.warn(\n",
      "c:\\Users\\user\\anaconda3\\Lib\\site-packages\\sklearn\\base.py:493: UserWarning: X does not have valid feature names, but RandomForestClassifier was fitted with feature names\n",
      "  warnings.warn(\n",
      "c:\\Users\\user\\anaconda3\\Lib\\site-packages\\sklearn\\base.py:493: UserWarning: X does not have valid feature names, but RandomForestClassifier was fitted with feature names\n",
      "  warnings.warn(\n",
      "c:\\Users\\user\\anaconda3\\Lib\\site-packages\\sklearn\\base.py:493: UserWarning: X does not have valid feature names, but RandomForestClassifier was fitted with feature names\n",
      "  warnings.warn(\n",
      "c:\\Users\\user\\anaconda3\\Lib\\site-packages\\sklearn\\base.py:493: UserWarning: X does not have valid feature names, but RandomForestClassifier was fitted with feature names\n",
      "  warnings.warn(\n",
      "c:\\Users\\user\\anaconda3\\Lib\\site-packages\\sklearn\\base.py:493: UserWarning: X does not have valid feature names, but RandomForestClassifier was fitted with feature names\n",
      "  warnings.warn(\n",
      "c:\\Users\\user\\anaconda3\\Lib\\site-packages\\sklearn\\base.py:493: UserWarning: X does not have valid feature names, but RandomForestClassifier was fitted with feature names\n",
      "  warnings.warn(\n",
      "c:\\Users\\user\\anaconda3\\Lib\\site-packages\\sklearn\\base.py:493: UserWarning: X does not have valid feature names, but RandomForestClassifier was fitted with feature names\n",
      "  warnings.warn(\n",
      "c:\\Users\\user\\anaconda3\\Lib\\site-packages\\sklearn\\base.py:493: UserWarning: X does not have valid feature names, but RandomForestClassifier was fitted with feature names\n",
      "  warnings.warn(\n",
      "c:\\Users\\user\\anaconda3\\Lib\\site-packages\\sklearn\\base.py:493: UserWarning: X does not have valid feature names, but RandomForestClassifier was fitted with feature names\n",
      "  warnings.warn(\n",
      "c:\\Users\\user\\anaconda3\\Lib\\site-packages\\sklearn\\base.py:493: UserWarning: X does not have valid feature names, but RandomForestClassifier was fitted with feature names\n",
      "  warnings.warn(\n",
      "c:\\Users\\user\\anaconda3\\Lib\\site-packages\\sklearn\\base.py:493: UserWarning: X does not have valid feature names, but RandomForestClassifier was fitted with feature names\n",
      "  warnings.warn(\n",
      "c:\\Users\\user\\anaconda3\\Lib\\site-packages\\sklearn\\base.py:493: UserWarning: X does not have valid feature names, but RandomForestClassifier was fitted with feature names\n",
      "  warnings.warn(\n",
      "c:\\Users\\user\\anaconda3\\Lib\\site-packages\\sklearn\\base.py:493: UserWarning: X does not have valid feature names, but RandomForestClassifier was fitted with feature names\n",
      "  warnings.warn(\n",
      "c:\\Users\\user\\anaconda3\\Lib\\site-packages\\sklearn\\base.py:493: UserWarning: X does not have valid feature names, but RandomForestClassifier was fitted with feature names\n",
      "  warnings.warn(\n",
      "c:\\Users\\user\\anaconda3\\Lib\\site-packages\\sklearn\\base.py:493: UserWarning: X does not have valid feature names, but RandomForestClassifier was fitted with feature names\n",
      "  warnings.warn(\n",
      "c:\\Users\\user\\anaconda3\\Lib\\site-packages\\sklearn\\base.py:493: UserWarning: X does not have valid feature names, but RandomForestClassifier was fitted with feature names\n",
      "  warnings.warn(\n",
      "c:\\Users\\user\\anaconda3\\Lib\\site-packages\\sklearn\\base.py:493: UserWarning: X does not have valid feature names, but RandomForestClassifier was fitted with feature names\n",
      "  warnings.warn(\n",
      "c:\\Users\\user\\anaconda3\\Lib\\site-packages\\sklearn\\base.py:493: UserWarning: X does not have valid feature names, but RandomForestClassifier was fitted with feature names\n",
      "  warnings.warn(\n",
      "c:\\Users\\user\\anaconda3\\Lib\\site-packages\\sklearn\\base.py:493: UserWarning: X does not have valid feature names, but RandomForestClassifier was fitted with feature names\n",
      "  warnings.warn(\n",
      "c:\\Users\\user\\anaconda3\\Lib\\site-packages\\sklearn\\base.py:493: UserWarning: X does not have valid feature names, but RandomForestClassifier was fitted with feature names\n",
      "  warnings.warn(\n",
      "c:\\Users\\user\\anaconda3\\Lib\\site-packages\\sklearn\\base.py:493: UserWarning: X does not have valid feature names, but RandomForestClassifier was fitted with feature names\n",
      "  warnings.warn(\n",
      "c:\\Users\\user\\anaconda3\\Lib\\site-packages\\sklearn\\base.py:493: UserWarning: X does not have valid feature names, but RandomForestClassifier was fitted with feature names\n",
      "  warnings.warn(\n",
      "c:\\Users\\user\\anaconda3\\Lib\\site-packages\\sklearn\\base.py:493: UserWarning: X does not have valid feature names, but RandomForestClassifier was fitted with feature names\n",
      "  warnings.warn(\n",
      "c:\\Users\\user\\anaconda3\\Lib\\site-packages\\sklearn\\base.py:493: UserWarning: X does not have valid feature names, but RandomForestClassifier was fitted with feature names\n",
      "  warnings.warn(\n"
     ]
    },
    {
     "name": "stdout",
     "output_type": "stream",
     "text": [
      "Akurasi Model: 15.00%\n"
     ]
    },
    {
     "name": "stderr",
     "output_type": "stream",
     "text": [
      "c:\\Users\\user\\anaconda3\\Lib\\site-packages\\sklearn\\base.py:493: UserWarning: X does not have valid feature names, but RandomForestClassifier was fitted with feature names\n",
      "  warnings.warn(\n"
     ]
    }
   ],
   "source": [
    "# Memuat model\n",
    "model_path = \"input_output/rf_canny_model_acc_0.493.pkl\"\n",
    "model_xgb = joblib.load(model_path)\n",
    "\n",
    "# Evaluasi model dengan dataset test\n",
    "accuracy, y_true, y_pred = evaluate_model(test_folder, model_xgb)\n",
    "\n",
    "# Tampilkan hasil\n",
    "print(f\"Akurasi Model: {accuracy * 100:.2f}%\")"
   ]
  }
 ],
 "metadata": {
  "colab": {
   "provenance": []
  },
  "kernelspec": {
   "display_name": "base",
   "language": "python",
   "name": "python3"
  },
  "language_info": {
   "codemirror_mode": {
    "name": "ipython",
    "version": 3
   },
   "file_extension": ".py",
   "mimetype": "text/x-python",
   "name": "python",
   "nbconvert_exporter": "python",
   "pygments_lexer": "ipython3",
   "version": "3.12.3"
  }
 },
 "nbformat": 4,
 "nbformat_minor": 0
}
