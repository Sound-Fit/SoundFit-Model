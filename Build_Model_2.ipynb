{
 "cells": [
  {
   "cell_type": "markdown",
   "metadata": {},
   "source": [
    "### Import Library"
   ]
  },
  {
   "cell_type": "code",
   "execution_count": null,
   "metadata": {},
   "outputs": [],
   "source": [
    "import os\n",
    "import cv2\n",
    "import numpy as np\n",
    "import pandas as pd\n",
    "from skimage.feature import local_binary_pattern, hog\n",
    "from skimage.filters import gabor\n",
    "from skimage.transform import resize\n",
    "from skimage.util import img_as_ubyte\n",
    "from sklearn.ensemble import RandomForestRegressor\n",
    "from sklearn.metrics import mean_absolute_error\n",
    "from sklearn.preprocessing import StandardScaler, MinMaxScaler"
   ]
  },
  {
   "cell_type": "markdown",
   "metadata": {},
   "source": [
    "### Load Data"
   ]
  },
  {
   "cell_type": "code",
   "execution_count": 2,
   "metadata": {},
   "outputs": [],
   "source": [
    "# Fungsi untuk membaca dataset dan label\n",
    "def load_images_and_labels(folder_path):\n",
    "    data = []\n",
    "    for root, _, files in os.walk(folder_path):\n",
    "        for file_name in files:\n",
    "            if file_name.lower().endswith(('.jpg', '.jpeg', '.png')):\n",
    "                file_path = os.path.join(root, file_name)\n",
    "                label = int(file_name.split('_')[-1].split('.')[0])  # Ambil usia dari nama file\n",
    "                data.append((file_path, label))\n",
    "    return pd.DataFrame(data, columns=['filepath', 'label'])"
   ]
  },
  {
   "cell_type": "markdown",
   "metadata": {},
   "source": [
    "### Ekstraksi Fitur"
   ]
  },
  {
   "cell_type": "code",
   "execution_count": 3,
   "metadata": {},
   "outputs": [],
   "source": [
    "# Ekstraksi fitur HOG\n",
    "def extract_hog_features(img, size=(200, 200)):\n",
    "    img_resized = resize(img, size, anti_aliasing=True)\n",
    "    features, _ = hog(\n",
    "        img_resized, \n",
    "        orientations=9, \n",
    "        pixels_per_cell=(8, 8), \n",
    "        cells_per_block=(2, 2),\n",
    "        block_norm='L2-Hys', \n",
    "        visualize=True,\n",
    "        channel_axis=None\n",
    "    )\n",
    "    return features\n",
    "\n",
    "# Ekstraksi fitur LBP\n",
    "def extract_lbp_features(img, size=(200, 200)):\n",
    "    img_resized = cv2.resize(img, size)\n",
    "    img_resized = img_as_ubyte(img_resized)\n",
    "    radius = 1\n",
    "    n_points = 8 * radius\n",
    "    lbp = local_binary_pattern(img_resized, n_points, radius, method='uniform')\n",
    "    \n",
    "    hist, _ = np.histogram(\n",
    "        lbp.ravel(),\n",
    "        bins=np.arange(0, n_points + 3),\n",
    "        range=(0, n_points + 2)\n",
    "    )\n",
    "    hist = hist.astype(\"float\")\n",
    "    hist /= (hist.sum() + 1e-6)\n",
    "    return hist\n",
    "\n",
    "# Ekstraksi fitur Gabor\n",
    "def extract_gabor_features(img, size=(200, 200)):\n",
    "    img_resized = resize(img, size, anti_aliasing=True)\n",
    "    filters = []\n",
    "    for theta in (0, np.pi / 4, np.pi / 2, 3 * np.pi / 4):  # Sudut orientasi\n",
    "        for frequency in (0.1, 0.2, 0.3):  # Frekuensi Gabor\n",
    "            real, _ = gabor(img_resized, frequency=frequency, theta=theta)\n",
    "            filters.append(np.mean(real))\n",
    "            filters.append(np.std(real))\n",
    "    return filters"
   ]
  },
  {
   "cell_type": "code",
   "execution_count": 4,
   "metadata": {},
   "outputs": [],
   "source": [
    "# Gabungkan semua fitur\n",
    "def extract_features_from_image(img_path, size=(200, 200)):\n",
    "    img = cv2.imread(img_path, cv2.IMREAD_GRAYSCALE)\n",
    "    if img is None:\n",
    "        return np.array([])  # Jika gambar tidak valid, return array kosong\n",
    "    \n",
    "    # Ekstraksi fitur\n",
    "    hog_features = extract_hog_features(img, size)\n",
    "    lbp_features = extract_lbp_features(img, size)\n",
    "    gabor_features = extract_gabor_features(img, size)\n",
    "    \n",
    "    # Gabungkan semua fitur\n",
    "    return np.hstack([hog_features, lbp_features, gabor_features])"
   ]
  },
  {
   "cell_type": "code",
   "execution_count": null,
   "metadata": {},
   "outputs": [],
   "source": [
    "# Ekstraksi fitur dari dataset\n",
    "def extract_features(data_df):\n",
    "    features = []\n",
    "    labels = []\n",
    "    for _, row in data_df.iterrows():\n",
    "        img_features = extract_features_from_image(row['filepath'])\n",
    "        if img_features.size > 0:  # Skip gambar tanpa fitur\n",
    "            features.append(img_features)\n",
    "            labels.append(row['label'])\n",
    "    return np.array(features), np.array(labels)"
   ]
  },
  {
   "cell_type": "code",
   "execution_count": 6,
   "metadata": {},
   "outputs": [],
   "source": [
    "# Path folder data\n",
    "train_folder = 'dataset/final_dataset/train'\n",
    "test_folder = 'dataset/final_dataset/test'\n",
    "\n",
    "# Load data train dan test\n",
    "train_df = load_images_and_labels(train_folder)\n",
    "test_df = load_images_and_labels(test_folder)"
   ]
  },
  {
   "cell_type": "code",
   "execution_count": 7,
   "metadata": {},
   "outputs": [],
   "source": [
    "# Ekstraksi fitur train\n",
    "X_train, y_train = extract_features(train_df)"
   ]
  },
  {
   "cell_type": "code",
   "execution_count": 8,
   "metadata": {},
   "outputs": [],
   "source": [
    "# Ekstraksi fitur test\n",
    "X_test, y_test = extract_features(test_df)"
   ]
  },
  {
   "cell_type": "code",
   "execution_count": null,
   "metadata": {},
   "outputs": [],
   "source": [
    "# Scaling data\n",
    "scaler = StandardScaler()\n",
    "X_train = scaler.fit_transform(X_train)\n",
    "X_test = scaler.transform(X_test)"
   ]
  },
  {
   "cell_type": "markdown",
   "metadata": {},
   "source": [
    "### Klasifikasi"
   ]
  },
  {
   "cell_type": "code",
   "execution_count": 13,
   "metadata": {},
   "outputs": [
    {
     "name": "stdout",
     "output_type": "stream",
     "text": [
      "Confusion Matrix:\n",
      "[[453  25   9  15   3   5]\n",
      " [ 20 384  63  22   8  13]\n",
      " [  5  46 294 119  34  12]\n",
      " [  5  15 154 211  93  32]\n",
      " [  2   8  31 100 295  74]\n",
      " [  1   5  10  46  59 389]]\n",
      "\n",
      "Classification Report:\n",
      "              precision    recall  f1-score   support\n",
      "\n",
      "           0       0.93      0.89      0.91       510\n",
      "           1       0.80      0.75      0.77       510\n",
      "           2       0.52      0.58      0.55       510\n",
      "           3       0.41      0.41      0.41       510\n",
      "           4       0.60      0.58      0.59       510\n",
      "           5       0.74      0.76      0.75       510\n",
      "\n",
      "    accuracy                           0.66      3060\n",
      "   macro avg       0.67      0.66      0.66      3060\n",
      "weighted avg       0.67      0.66      0.66      3060\n",
      "\n",
      "Accuracy: 66.21%\n"
     ]
    }
   ],
   "source": [
    "from xgboost import XGBClassifier\n",
    "from sklearn.metrics import confusion_matrix, accuracy_score, classification_report\n",
    "\n",
    "# Buat model XGBoost\n",
    "xgb_model = XGBClassifier(n_estimators=100, max_depth=5, random_state=42)\n",
    "\n",
    "# Melatih model pada data latih\n",
    "xgb_model.fit(X_train, y_train)\n",
    "\n",
    "# Prediksi rentang usia pada data uji\n",
    "y_pred = xgb_model.predict(X_test)\n",
    "\n",
    "# Evaluasi model\n",
    "print(\"Confusion Matrix:\")\n",
    "print(confusion_matrix(y_test, y_pred)) \n",
    "\n",
    "print(\"\\nClassification Report:\")\n",
    "print(classification_report(y_test, y_pred)) \n",
    "\n",
    "# Akurasi model\n",
    "accuracy = accuracy_score(y_test, y_pred)\n",
    "print(f\"Accuracy: {accuracy * 100:.2f}%\")"
   ]
  },
  {
   "cell_type": "code",
   "execution_count": null,
   "metadata": {},
   "outputs": [
    {
     "ename": "",
     "evalue": "",
     "output_type": "error",
     "traceback": [
      "\u001b[1;31mThe Kernel crashed while executing code in the current cell or a previous cell. \n",
      "\u001b[1;31mPlease review the code in the cell(s) to identify a possible cause of the failure. \n",
      "\u001b[1;31mClick <a href='https://aka.ms/vscodeJupyterKernelCrash'>here</a> for more info. \n",
      "\u001b[1;31mView Jupyter <a href='command:jupyter.viewOutput'>log</a> for further details."
     ]
    }
   ],
   "source": [
    "import pickle\n",
    "\n",
    "# Saving the XGBoost model from above in a pickle file for possible use later.\n",
    "xgb_pickle = f\"model/xgboost_hog_lbp_model_acc_{accuracy}.pkl\"\n",
    "with open(xgb_pickle, 'wb') as file:\n",
    "    pickle.dump(xgb_model, file)"
   ]
  }
 ],
 "metadata": {
  "kernelspec": {
   "display_name": "base",
   "language": "python",
   "name": "python3"
  },
  "language_info": {
   "codemirror_mode": {
    "name": "ipython",
    "version": 3
   },
   "file_extension": ".py",
   "mimetype": "text/x-python",
   "name": "python",
   "nbconvert_exporter": "python",
   "pygments_lexer": "ipython3",
   "version": "3.12.3"
  }
 },
 "nbformat": 4,
 "nbformat_minor": 2
}
