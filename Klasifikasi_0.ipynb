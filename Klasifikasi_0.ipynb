{
 "cells": [
  {
   "cell_type": "code",
   "execution_count": 1,
   "metadata": {
    "id": "Q_M1IO4GgZQi"
   },
   "outputs": [],
   "source": [
    "import numpy as np\n",
    "import cv2 as cv\n",
    "from skimage.feature import canny\n",
    "\n",
    "from sklearn.utils import shuffle\n",
    "from sklearn.model_selection import train_test_split\n",
    "from sklearn.preprocessing import StandardScaler\n",
    "from sklearn.model_selection import train_test_split, cross_val_score, GridSearchCV\n",
    "from sklearn.svm import SVC\n",
    "from sklearn.metrics import confusion_matrix\n",
    "\n",
    "import joblib"
   ]
  },
  {
   "cell_type": "markdown",
   "metadata": {
    "id": "jiMddsZczT2o"
   },
   "source": [
    "## **Ekstrasi Fitur**"
   ]
  },
  {
   "cell_type": "code",
   "execution_count": 2,
   "metadata": {
    "id": "lqajuiO4tqdk"
   },
   "outputs": [],
   "source": [
    "def face_recognition(image_path):\n",
    "    # Memuat Haar Cascade untuk deteksi wajah manusia atau kucing (Jika ada)\n",
    "    # cascade_wajah = cv.CascadeClassifier('/content/drive/MyDrive/PCVK_2024/Images/haarcascades/haarcascade_frontalface_default.xml')\n",
    "    cascade_wajah = cv.CascadeClassifier('input_output/haarcascade_frontalface_default.xml')\n",
    "\n",
    "    # Membaca Gambar\n",
    "    image = cv.imread(image_path)\n",
    "\n",
    "    # Mengubah gambar menjadi grayscale\n",
    "    gray = cv.cvtColor(image, cv.COLOR_BGR2GRAY)\n",
    "\n",
    "    # scaleFactor: Faktor skala untuk memperkecil gambar setiap proses deteksi.\n",
    "    # minNeighbors: Jumlah minimum tetangga yang diperlukan untuk validasi objek.\n",
    "    # minSize: Ukuran minimum objek yang akan dideteksi.\n",
    "    faces = cascade_wajah.detectMultiScale(gray, scaleFactor=1.1, minNeighbors=5, minSize=(30, 30))\n",
    "\n",
    "    # Wajah tidak terdeteksi\n",
    "    if len(faces) == 0:\n",
    "        print(\"Wajah tidak terdeteksi!\")\n",
    "        return None\n",
    "\n",
    "    # Memproses setiap wajah yang terdeteksi\n",
    "    for (x, y, w, h) in faces:\n",
    "        # Memotong gambar sesuai area deteksi wajah\n",
    "        face_crop = image[y:y+h, x:x+w]\n",
    "        face_crop = cv.resize(face_crop, (200,200))\n",
    "\n",
    "        # Mengurangi area gambar sebesar 10% (90% dari ukuran asli)\n",
    "        height, width = face_crop.shape[:2]\n",
    "        new_height = int(height * 0.70)\n",
    "        new_width = int(width * 0.70)\n",
    "\n",
    "        # Menghitung margin untuk cropping agar tetap di tengah\n",
    "        top_margin = (height - new_height) // 2\n",
    "        left_margin = (width - new_width) // 2\n",
    "\n",
    "        # Memotong area gambar\n",
    "        face_crop = face_crop[top_margin:top_margin + new_height, left_margin:left_margin + new_width]\n",
    "\n",
    "    return face_crop"
   ]
  },
  {
   "cell_type": "code",
   "execution_count": 3,
   "metadata": {
    "id": "J2tcwktoXskF"
   },
   "outputs": [],
   "source": [
    "import random\n",
    "\n",
    "def augment_image(image):\n",
    "    augmented_image = image.copy()\n",
    "\n",
    "    # Random horizontal flip\n",
    "    if random.random() > 0.5:\n",
    "        augmented_image = cv.flip(augmented_image, 1)\n",
    "\n",
    "    # Random brightness/contrast adjustment\n",
    "    if random.random() > 0.5:\n",
    "        alpha = random.uniform(0.7, 1.3)  # Random contrast factor\n",
    "        beta = random.randint(-50, 50)    # Random brightness factor\n",
    "        augmented_image = cv.convertScaleAbs(augmented_image, alpha=alpha, beta=beta)\n",
    "\n",
    "    # Random rotation (±15 degrees)\n",
    "    if random.random() > 0.5:\n",
    "        angle = random.randint(-15, 15)  # Random angle for rotation\n",
    "        h, w = augmented_image.shape[:2]\n",
    "        center = (w // 2, h // 2)\n",
    "        rotation_matrix = cv.getRotationMatrix2D(center, angle, 1.0)\n",
    "        augmented_image = cv.warpAffine(augmented_image, rotation_matrix, (w, h))\n",
    "\n",
    "    # Random Gaussian blur\n",
    "    if random.random() > 0.5:\n",
    "        ksize = random.choice([3, 5, 7])  # Random kernel size\n",
    "        augmented_image = cv.GaussianBlur(augmented_image, (ksize, ksize), 0)\n",
    "\n",
    "    return augmented_image"
   ]
  },
  {
   "cell_type": "code",
   "execution_count": 4,
   "metadata": {
    "id": "UzsgB0rJw3aY"
   },
   "outputs": [],
   "source": [
    "def features_grid(img):\n",
    "    features = np.array([], dtype='uint8')\n",
    "\n",
    "    for y in range(0, img.shape[0], 10):\n",
    "        for x in range(0, img.shape[1], 10):\n",
    "\n",
    "            # Cropping the image into a section.\n",
    "            section_img = img[y:y+10, x:x+10]\n",
    "\n",
    "            # Claculating the mean and stdev of the sectioned image.\n",
    "            section_mean = np.mean(section_img)\n",
    "            section_std = np.std(section_img)\n",
    "\n",
    "            # Appending the above calculated values into features array.\n",
    "            features = np.append(features, [section_mean, section_std])\n",
    "\n",
    "    # Returning the features array.\n",
    "    return features"
   ]
  },
  {
   "cell_type": "code",
   "execution_count": 5,
   "metadata": {
    "id": "TxdXverTvJ5z"
   },
   "outputs": [],
   "source": [
    "def extract_canny_edges(image_path, augment=False):\n",
    "    img = face_recognition(image_path)\n",
    "    if img is None:\n",
    "        return None\n",
    "\n",
    "    if augment:\n",
    "        img = augment_image(img)\n",
    "\n",
    "    # Mengonversi gambar ke grayscale\n",
    "    img = cv.cvtColor(img, cv.COLOR_BGR2GRAY)\n",
    "\n",
    "    # Meresize gambar ke ukuran 200x200 piksel\n",
    "    img = cv.resize(img, (200, 200))\n",
    "\n",
    "    # Mengonversi gambar ke gambar dengan filter canny\n",
    "    img = canny(img, sigma=0.9)\n",
    "\n",
    "    # Ekstraksi fitur (mean dan stdev dari grid 10x10 piksel)\n",
    "    img_features = features_grid(img)\n",
    "\n",
    "    return img_features"
   ]
  },
  {
   "cell_type": "code",
   "execution_count": 6,
   "metadata": {
    "id": "0sYZRp9MX6st"
   },
   "outputs": [],
   "source": [
    "def classify_image(image_path, model, augment=False):\n",
    "    \"\"\"\n",
    "    Fungsi untuk mengklasifikasikan gambar menggunakan model yang telah dilatih.\n",
    "    \"\"\"\n",
    "    features = extract_canny_edges(image_path, augment=augment)\n",
    "\n",
    "    if features is None:\n",
    "        return \"Wajah tidak terdeteksi!\"\n",
    "\n",
    "    features = features.reshape(1, -1)\n",
    "    label = model.predict(features)[0]\n",
    "    return label"
   ]
  },
  {
   "cell_type": "code",
   "execution_count": 7,
   "metadata": {
    "id": "GHBOloqCchNO"
   },
   "outputs": [],
   "source": [
    "import matplotlib.pyplot as plt\n",
    "\n",
    "# Fungsi untuk menampilkan gambar dengan ukuran lebih kecil\n",
    "def display_image(image, title=\"Image\", figsize=(10, 10)):\n",
    "    plt.figure(figsize=figsize)\n",
    "    plt.imshow(cv.cvtColor(image, cv.COLOR_BGR2RGB))\n",
    "    plt.title(title)\n",
    "    plt.axis('off')\n",
    "    plt.show()"
   ]
  },
  {
   "cell_type": "markdown",
   "metadata": {},
   "source": [
    "# Akurasi"
   ]
  },
  {
   "cell_type": "markdown",
   "metadata": {},
   "source": [
    "## New (Sudah + Canny)"
   ]
  },
  {
   "cell_type": "markdown",
   "metadata": {},
   "source": [
    "### XGBOOST"
   ]
  },
  {
   "cell_type": "code",
   "execution_count": 9,
   "metadata": {},
   "outputs": [
    {
     "name": "stdout",
     "output_type": "stream",
     "text": [
      "Akurasi Model: 16.57%\n"
     ]
    }
   ],
   "source": [
    "import os\n",
    "import pandas as pd\n",
    "from sklearn.metrics import accuracy_score\n",
    "\n",
    "# Fungsi untuk membaca dataset lokal dan menyiapkan filepath serta label\n",
    "def load_dataset(folder_path):\n",
    "    data = []\n",
    "    for root, _, files in os.walk(folder_path):\n",
    "        for file_name in files:\n",
    "            if file_name.lower().endswith(('.jpg', '.jpeg', '.png')):\n",
    "                file_path = os.path.join(root, file_name)\n",
    "                # Ekstrak label dari angka sebelum ekstensi\n",
    "                label = int(file_name.split('_')[-1].split('.')[0])\n",
    "                data.append((file_path, label))  # Path dan label\n",
    "    return pd.DataFrame(data, columns=['filepath', 'label'])\n",
    "\n",
    "# Fungsi untuk memproses dataset dan menghitung akurasi\n",
    "def evaluate_model(folder_path, model):\n",
    "    data = load_dataset(folder_path)\n",
    "    y_true = []\n",
    "    y_pred = []\n",
    "\n",
    "    for _, row in data.iterrows():\n",
    "        image_path = row['filepath']\n",
    "        true_label = row['label']\n",
    "\n",
    "        # Prediksi dengan augmentasi dan tanpa augmentasi\n",
    "        predicted_label_original = classify_image(image_path, model, augment=False)\n",
    "        # predicted_label_augmented = classify_image(image_path, model, augment=True)\n",
    "\n",
    "        # Menambahkan hasil prediksi ke daftar\n",
    "        y_true.append(true_label)\n",
    "        y_pred.append(predicted_label_original)\n",
    "\n",
    "    # Hitung akurasi\n",
    "    accuracy = accuracy_score(y_true, y_pred)\n",
    "    return accuracy, y_true, y_pred\n",
    "\n",
    "# Path dataset lokal\n",
    "train_folder = 'dataset/final_dataset/train'\n",
    "test_folder = 'dataset/final_dataset/test'\n",
    "\n",
    "# Memuat model\n",
    "model_path = \"model/xgboost_canny_model_acc_0.5.pkl\"\n",
    "model_xgb = joblib.load(model_path)\n",
    "\n",
    "# Evaluasi model dengan dataset test\n",
    "accuracy, y_true, y_pred = evaluate_model(test_folder, model_xgb)\n",
    "\n",
    "# Tampilkan hasil\n",
    "print(f\"Akurasi Model: {accuracy * 100:.2f}%\")"
   ]
  },
  {
   "cell_type": "markdown",
   "metadata": {},
   "source": [
    "### SVM"
   ]
  },
  {
   "cell_type": "code",
   "execution_count": 40,
   "metadata": {},
   "outputs": [
    {
     "name": "stdout",
     "output_type": "stream",
     "text": [
      "Akurasi Model: 17.12%\n"
     ]
    }
   ],
   "source": [
    "# Memuat model\n",
    "model_path = \"model/svm_canny_model_acc_0.56.pkl\"\n",
    "model_svm = joblib.load(model_path)\n",
    "\n",
    "# Evaluasi model dengan dataset test\n",
    "accuracy, y_true, y_pred = evaluate_model(test_folder, model_svm)\n",
    "\n",
    "# Tampilkan hasil\n",
    "print(f\"Akurasi Model: {accuracy * 100:.2f}%\")"
   ]
  },
  {
   "cell_type": "markdown",
   "metadata": {},
   "source": [
    "### RF"
   ]
  },
  {
   "cell_type": "code",
   "execution_count": 41,
   "metadata": {},
   "outputs": [
    {
     "name": "stdout",
     "output_type": "stream",
     "text": [
      "Akurasi Model: 17.12%\n"
     ]
    }
   ],
   "source": [
    "# Memuat model\n",
    "model_path = \"model/rf_canny_model_acc_0.56.pkl\"\n",
    "model_rf = joblib.load(model_path)\n",
    "\n",
    "# Evaluasi model dengan dataset test\n",
    "accuracy, y_true, y_pred = evaluate_model(test_folder, model_rf)\n",
    "\n",
    "# Tampilkan hasil\n",
    "print(f\"Akurasi Model: {accuracy * 100:.2f}%\")"
   ]
  },
  {
   "cell_type": "markdown",
   "metadata": {},
   "source": [
    "## Tanpa Augmentasi"
   ]
  },
  {
   "cell_type": "markdown",
   "metadata": {},
   "source": [
    "### XGBOOST"
   ]
  },
  {
   "cell_type": "code",
   "execution_count": null,
   "metadata": {},
   "outputs": [
    {
     "name": "stdout",
     "output_type": "stream",
     "text": [
      "Akurasi Model: 16.67%\n"
     ]
    }
   ],
   "source": [
    "import os\n",
    "import pandas as pd\n",
    "from sklearn.metrics import accuracy_score\n",
    "\n",
    "# Fungsi untuk membaca dataset lokal dan menyiapkan filepath serta label\n",
    "def load_dataset(folder_path):\n",
    "    data = []\n",
    "    for root, _, files in os.walk(folder_path):\n",
    "        for file_name in files:\n",
    "            if file_name.lower().endswith(('.jpg', '.jpeg', '.png')):\n",
    "                file_path = os.path.join(root, file_name)\n",
    "                # Ekstrak label dari angka sebelum ekstensi\n",
    "                label = int(file_name.split('_')[-1].split('.')[0])\n",
    "                data.append((file_path, label))  # Path dan label\n",
    "    return pd.DataFrame(data, columns=['filepath', 'label'])\n",
    "\n",
    "# Fungsi untuk memproses dataset dan menghitung akurasi\n",
    "def evaluate_model(folder_path, model):\n",
    "    data = load_dataset(folder_path)\n",
    "    y_true = []\n",
    "    y_pred = []\n",
    "\n",
    "    for _, row in data.iterrows():\n",
    "        image_path = row['filepath']\n",
    "        true_label = row['label']\n",
    "\n",
    "        # Prediksi dengan augmentasi dan tanpa augmentasi\n",
    "        predicted_label_original = classify_image(image_path, model, augment=False)\n",
    "        # predicted_label_augmented = classify_image(image_path, model, augment=True)\n",
    "\n",
    "        # Menambahkan hasil prediksi ke daftar\n",
    "        y_true.append(true_label)\n",
    "        y_pred.append(predicted_label_original)\n",
    "\n",
    "    # Hitung akurasi\n",
    "    accuracy = accuracy_score(y_true, y_pred)\n",
    "    return accuracy, y_true, y_pred\n",
    "\n",
    "# Path dataset lokal\n",
    "train_folder = 'dataset/final_dataset/train'\n",
    "test_folder = 'dataset/final_dataset/test'\n",
    "\n",
    "# Memuat model\n",
    "model_path = \"model/xgboost_canny_model_acc.pkl\"\n",
    "model_xgb = joblib.load(model_path)\n",
    "\n",
    "# Evaluasi model dengan dataset test\n",
    "accuracy, y_true, y_pred = evaluate_model(test_folder, model_xgb)\n",
    "\n",
    "# Tampilkan hasil\n",
    "print(f\"Akurasi Model: {accuracy * 100:.2f}%\")"
   ]
  },
  {
   "cell_type": "markdown",
   "metadata": {},
   "source": [
    "### SVM"
   ]
  },
  {
   "cell_type": "code",
   "execution_count": 22,
   "metadata": {},
   "outputs": [
    {
     "name": "stdout",
     "output_type": "stream",
     "text": [
      "Akurasi Model: 18.50%\n"
     ]
    }
   ],
   "source": [
    "# Memuat model\n",
    "model_path = \"model/svm_canny_model_acc.pkl\"\n",
    "model_svm = joblib.load(model_path)\n",
    "\n",
    "# Evaluasi model dengan dataset test\n",
    "accuracy, y_true, y_pred = evaluate_model(test_folder, model_svm)\n",
    "\n",
    "# Tampilkan hasil\n",
    "print(f\"Akurasi Model: {accuracy * 100:.2f}%\")"
   ]
  },
  {
   "cell_type": "markdown",
   "metadata": {},
   "source": [
    "### RF"
   ]
  },
  {
   "cell_type": "code",
   "execution_count": 23,
   "metadata": {},
   "outputs": [
    {
     "name": "stdout",
     "output_type": "stream",
     "text": [
      "Akurasi Model: 18.50%\n"
     ]
    }
   ],
   "source": [
    "# Memuat model\n",
    "model_path = \"model/rf_canny_model_acc.pkl\"\n",
    "model_rf = joblib.load(model_path)\n",
    "\n",
    "# Evaluasi model dengan dataset test\n",
    "accuracy, y_true, y_pred = evaluate_model(test_folder, model_rf)\n",
    "\n",
    "# Tampilkan hasil\n",
    "print(f\"Akurasi Model: {accuracy * 100:.2f}%\")"
   ]
  },
  {
   "cell_type": "markdown",
   "metadata": {},
   "source": [
    "## Dengan Augmentasi"
   ]
  },
  {
   "cell_type": "markdown",
   "metadata": {},
   "source": [
    "### XGBOOST"
   ]
  },
  {
   "cell_type": "code",
   "execution_count": 24,
   "metadata": {},
   "outputs": [
    {
     "name": "stdout",
     "output_type": "stream",
     "text": [
      "Akurasi Model: 16.67%\n"
     ]
    }
   ],
   "source": [
    "import os\n",
    "import pandas as pd\n",
    "from sklearn.metrics import accuracy_score\n",
    "\n",
    "# Fungsi untuk membaca dataset lokal dan menyiapkan filepath serta label\n",
    "def load_dataset(folder_path):\n",
    "    data = []\n",
    "    for root, _, files in os.walk(folder_path):\n",
    "        for file_name in files:\n",
    "            if file_name.lower().endswith(('.jpg', '.jpeg', '.png')):\n",
    "                file_path = os.path.join(root, file_name)\n",
    "                # Ekstrak label dari angka sebelum ekstensi\n",
    "                label = int(file_name.split('_')[-1].split('.')[0])\n",
    "                data.append((file_path, label))  # Path dan label\n",
    "    return pd.DataFrame(data, columns=['filepath', 'label'])\n",
    "\n",
    "# Fungsi untuk memproses dataset dan menghitung akurasi\n",
    "def evaluate_model(folder_path, model):\n",
    "    data = load_dataset(folder_path)\n",
    "    y_true = []\n",
    "    y_pred = []\n",
    "\n",
    "    for _, row in data.iterrows():\n",
    "        image_path = row['filepath']\n",
    "        true_label = row['label']\n",
    "\n",
    "        # Prediksi dengan augmentasi dan tanpa augmentasi\n",
    "        # predicted_label_original = classify_image(image_path, model, augment=False)\n",
    "        predicted_label_augmented = classify_image(image_path, model, augment=True)\n",
    "\n",
    "        # Menambahkan hasil prediksi ke daftar\n",
    "        y_true.append(true_label)\n",
    "        y_pred.append(predicted_label_augmented)\n",
    "\n",
    "    # Hitung akurasi\n",
    "    accuracy = accuracy_score(y_true, y_pred)\n",
    "    return accuracy, y_true, y_pred\n",
    "\n",
    "# Path dataset lokal\n",
    "train_folder = 'dataset/final_dataset/train'\n",
    "test_folder = 'dataset/final_dataset/test'\n",
    "\n",
    "# Memuat model\n",
    "model_path = \"model/xgboost_canny_model_acc.pkl\"\n",
    "model_xgb = joblib.load(model_path)\n",
    "\n",
    "# Evaluasi model dengan dataset test\n",
    "accuracy, y_true, y_pred = evaluate_model(test_folder, model_xgb)\n",
    "\n",
    "# Tampilkan hasil\n",
    "print(f\"Akurasi Model: {accuracy * 100:.2f}%\")"
   ]
  },
  {
   "cell_type": "markdown",
   "metadata": {},
   "source": [
    "### SVM"
   ]
  },
  {
   "cell_type": "code",
   "execution_count": 25,
   "metadata": {},
   "outputs": [
    {
     "name": "stdout",
     "output_type": "stream",
     "text": [
      "Akurasi Model: 17.06%\n"
     ]
    }
   ],
   "source": [
    "# Memuat model\n",
    "model_path = \"model/svm_canny_model_acc.pkl\"\n",
    "model_svm = joblib.load(model_path)\n",
    "\n",
    "# Evaluasi model dengan dataset test\n",
    "accuracy, y_true, y_pred = evaluate_model(test_folder, model_svm)\n",
    "\n",
    "# Tampilkan hasil\n",
    "print(f\"Akurasi Model: {accuracy * 100:.2f}%\")"
   ]
  },
  {
   "cell_type": "markdown",
   "metadata": {},
   "source": [
    "### RF"
   ]
  },
  {
   "cell_type": "code",
   "execution_count": 26,
   "metadata": {},
   "outputs": [
    {
     "name": "stdout",
     "output_type": "stream",
     "text": [
      "Akurasi Model: 17.71%\n"
     ]
    }
   ],
   "source": [
    "# Memuat model\n",
    "model_path = \"model/rf_canny_model_acc.pkl\"\n",
    "model_rf = joblib.load(model_path)\n",
    "\n",
    "# Evaluasi model dengan dataset test\n",
    "accuracy, y_true, y_pred = evaluate_model(test_folder, model_rf)\n",
    "\n",
    "# Tampilkan hasil\n",
    "print(f\"Akurasi Model: {accuracy * 100:.2f}%\")"
   ]
  },
  {
   "cell_type": "markdown",
   "metadata": {
    "id": "og8Goqc3zch_"
   },
   "source": [
    "## **Klasifikasikan**"
   ]
  },
  {
   "cell_type": "markdown",
   "metadata": {},
   "source": [
    "### XGBOOST FINAL"
   ]
  },
  {
   "cell_type": "code",
   "execution_count": null,
   "metadata": {},
   "outputs": [
    {
     "name": "stdout",
     "output_type": "stream",
     "text": [
      "Age Range 1\n",
      "image 20\n",
      "Prediksi Label (Augmented): 5\n",
      "Prediksi Label (Original): 1\n",
      "\n",
      "image 21\n",
      "Prediksi Label (Augmented): 5\n",
      "Prediksi Label (Original): 1\n",
      "\n",
      "image 22\n",
      "Prediksi Label (Augmented): 5\n",
      "Prediksi Label (Original): 1\n",
      "\n",
      "image 23\n",
      "Prediksi Label (Augmented): 5\n",
      "Prediksi Label (Original): 1\n",
      "\n",
      "image 24\n",
      "Prediksi Label (Augmented): 5\n",
      "Prediksi Label (Original): 1\n",
      "\n",
      "image 25\n",
      "Prediksi Label (Augmented): 5\n",
      "Prediksi Label (Original): 1\n",
      "\n",
      "image 26\n",
      "Prediksi Label (Augmented): 5\n",
      "Prediksi Label (Original): 1\n",
      "\n",
      "image 27\n",
      "Prediksi Label (Augmented): 5\n",
      "Prediksi Label (Original): 1\n",
      "\n",
      "image 28\n",
      "Prediksi Label (Augmented): 5\n",
      "Prediksi Label (Original): 1\n",
      "\n"
     ]
    }
   ],
   "source": [
    "# Load model\n",
    "model_path = \"model/xgboost_canny_model_acc.pkl\"\n",
    "model_xgb = joblib.load(model_path)\n",
    "\n",
    "print(\"Age Range 1\")\n",
    "# Memanggil gambar\n",
    "for i in range(20, 29):\n",
    "    image_path = f'assets/test/1/{i}.jpg'  # Update this path as needed\n",
    "    predicted_label_augmented = classify_image(image_path, model_xgb, augment=True)\n",
    "    print(f\"image {i}\")\n",
    "    print(f\"Prediksi Label (Augmented): {predicted_label_augmented}\")\n",
    "    print(f\"Prediksi Label (Original): {predicted_label_original}\")\n",
    "    print()"
   ]
  },
  {
   "cell_type": "code",
   "execution_count": null,
   "metadata": {},
   "outputs": [
    {
     "name": "stdout",
     "output_type": "stream",
     "text": [
      "Age Range 2\n",
      "image 20\n",
      "Prediksi Label (Augmented): 5\n",
      "Prediksi Label (Original): 1\n",
      "\n",
      "image 21\n",
      "Prediksi Label (Augmented): 5\n",
      "Prediksi Label (Original): 1\n",
      "\n",
      "image 22\n",
      "Prediksi Label (Augmented): 5\n",
      "Prediksi Label (Original): 1\n",
      "\n",
      "image 23\n",
      "Prediksi Label (Augmented): 5\n",
      "Prediksi Label (Original): 1\n",
      "\n",
      "image 24\n",
      "Prediksi Label (Augmented): 5\n",
      "Prediksi Label (Original): 1\n",
      "\n",
      "image 25\n",
      "Prediksi Label (Augmented): 5\n",
      "Prediksi Label (Original): 1\n",
      "\n",
      "image 26\n",
      "Prediksi Label (Augmented): 5\n",
      "Prediksi Label (Original): 1\n",
      "\n",
      "image 27\n",
      "Prediksi Label (Augmented): 5\n",
      "Prediksi Label (Original): 1\n",
      "\n",
      "image 28\n",
      "Prediksi Label (Augmented): 5\n",
      "Prediksi Label (Original): 1\n",
      "\n"
     ]
    }
   ],
   "source": [
    "print(\"Age Range 2\")\n",
    "# Memanggil gambar\n",
    "for i in range(20, 29):\n",
    "    image_path = f'assets/test/2/{i}.jpg'  # Update this path as needed\n",
    "    predicted_label_augmented = classify_image(image_path, model_xgb, augment=True)\n",
    "    print(f\"image {i}\")\n",
    "    print(f\"Prediksi Label (Augmented): {predicted_label_augmented}\")\n",
    "    print(f\"Prediksi Label (Original): {predicted_label_original}\")\n",
    "    print()"
   ]
  },
  {
   "cell_type": "code",
   "execution_count": null,
   "metadata": {},
   "outputs": [
    {
     "name": "stdout",
     "output_type": "stream",
     "text": [
      "Age Range 3\n",
      "image 20\n",
      "Prediksi Label (Augmented): 5\n",
      "Prediksi Label (Original): 1\n",
      "\n",
      "image 21\n",
      "Prediksi Label (Augmented): 5\n",
      "Prediksi Label (Original): 1\n",
      "\n",
      "image 22\n",
      "Prediksi Label (Augmented): 5\n",
      "Prediksi Label (Original): 1\n",
      "\n",
      "image 23\n",
      "Prediksi Label (Augmented): 5\n",
      "Prediksi Label (Original): 1\n",
      "\n",
      "image 24\n",
      "Prediksi Label (Augmented): 5\n",
      "Prediksi Label (Original): 1\n",
      "\n",
      "image 25\n",
      "Prediksi Label (Augmented): 5\n",
      "Prediksi Label (Original): 1\n",
      "\n",
      "image 26\n",
      "Prediksi Label (Augmented): 5\n",
      "Prediksi Label (Original): 1\n",
      "\n",
      "image 27\n",
      "Prediksi Label (Augmented): 5\n",
      "Prediksi Label (Original): 1\n",
      "\n",
      "image 28\n",
      "Prediksi Label (Augmented): 5\n",
      "Prediksi Label (Original): 1\n",
      "\n"
     ]
    }
   ],
   "source": [
    "print(\"Age Range 3\")\n",
    "# Memanggil gambar\n",
    "for i in range(20, 29):\n",
    "    image_path = f'assets/test/3/{i}.jpg'  # Update this path as needed\n",
    "    predicted_label_augmented = classify_image(image_path, model_xgb, augment=True)\n",
    "    print(f\"image {i}\")\n",
    "    print(f\"Prediksi Label (Augmented): {predicted_label_augmented}\")\n",
    "    print(f\"Prediksi Label (Original): {predicted_label_original}\")\n",
    "    print()"
   ]
  },
  {
   "cell_type": "code",
   "execution_count": null,
   "metadata": {},
   "outputs": [
    {
     "name": "stdout",
     "output_type": "stream",
     "text": [
      "Age Range 4\n",
      "image 20\n",
      "Prediksi Label (Augmented): 0\n",
      "Prediksi Label (Original): 1\n",
      "\n",
      "image 21\n",
      "Prediksi Label (Augmented): 2\n",
      "Prediksi Label (Original): 1\n",
      "\n",
      "image 22\n",
      "Prediksi Label (Augmented): 2\n",
      "Prediksi Label (Original): 1\n",
      "\n",
      "image 23\n",
      "Prediksi Label (Augmented): 5\n",
      "Prediksi Label (Original): 1\n",
      "\n",
      "image 24\n",
      "Prediksi Label (Augmented): 3\n",
      "Prediksi Label (Original): 1\n",
      "\n",
      "image 25\n",
      "Prediksi Label (Augmented): 5\n",
      "Prediksi Label (Original): 1\n",
      "\n",
      "image 26\n",
      "Prediksi Label (Augmented): 0\n",
      "Prediksi Label (Original): 1\n",
      "\n",
      "image 27\n",
      "Prediksi Label (Augmented): 5\n",
      "Prediksi Label (Original): 1\n",
      "\n",
      "image 28\n",
      "Prediksi Label (Augmented): 0\n",
      "Prediksi Label (Original): 1\n",
      "\n"
     ]
    }
   ],
   "source": [
    "print(\"Age Range 4\")\n",
    "# Memanggil gambar\n",
    "for i in range(20, 29):\n",
    "    image_path = f'assets/test/4/{i}.jpg'  # Update this path as needed\n",
    "    predicted_label_augmented = classify_image(image_path, model_xgb, augment=True)\n",
    "    print(f\"image {i}\")\n",
    "    print(f\"Prediksi Label (Augmented): {predicted_label_augmented}\")\n",
    "    print(f\"Prediksi Label (Original): {predicted_label_original}\")\n",
    "    print()"
   ]
  },
  {
   "cell_type": "code",
   "execution_count": null,
   "metadata": {},
   "outputs": [
    {
     "name": "stdout",
     "output_type": "stream",
     "text": [
      "Age Range 5\n",
      "image 20\n",
      "Prediksi Label (Augmented): 5\n",
      "Prediksi Label (Original): 1\n",
      "\n",
      "image 21\n",
      "Prediksi Label (Augmented): 0\n",
      "Prediksi Label (Original): 1\n",
      "\n",
      "image 22\n",
      "Prediksi Label (Augmented): 0\n",
      "Prediksi Label (Original): 1\n",
      "\n",
      "image 23\n",
      "Prediksi Label (Augmented): 5\n",
      "Prediksi Label (Original): 1\n",
      "\n",
      "image 24\n",
      "Prediksi Label (Augmented): 0\n",
      "Prediksi Label (Original): 1\n",
      "\n",
      "image 25\n",
      "Prediksi Label (Augmented): 5\n",
      "Prediksi Label (Original): 1\n",
      "\n",
      "image 26\n",
      "Prediksi Label (Augmented): 1\n",
      "Prediksi Label (Original): 1\n",
      "\n",
      "image 27\n",
      "Prediksi Label (Augmented): 3\n",
      "Prediksi Label (Original): 1\n",
      "\n",
      "image 28\n",
      "Prediksi Label (Augmented): 5\n",
      "Prediksi Label (Original): 1\n",
      "\n"
     ]
    }
   ],
   "source": [
    "print(\"Age Range 5\")\n",
    "# Memanggil gambar\n",
    "for i in range(20, 29):\n",
    "    image_path = f'assets/test/5/{i}.jpg'  # Update this path as needed\n",
    "    predicted_label_augmented = classify_image(image_path, model_xgb, augment=True)\n",
    "    print(f\"image {i}\")\n",
    "    print(f\"Prediksi Label (Augmented): {predicted_label_augmented}\")\n",
    "    print(f\"Prediksi Label (Original): {predicted_label_original}\")\n",
    "    print()"
   ]
  },
  {
   "cell_type": "markdown",
   "metadata": {},
   "source": [
    "### SVM FINAL"
   ]
  },
  {
   "cell_type": "code",
   "execution_count": null,
   "metadata": {},
   "outputs": [
    {
     "name": "stdout",
     "output_type": "stream",
     "text": [
      "Age Range 1\n",
      "image 20\n",
      "Prediksi Label (Augmented): 1\n",
      "Prediksi Label (Original): 1\n",
      "\n",
      "image 21\n",
      "Prediksi Label (Augmented): 1\n",
      "Prediksi Label (Original): 1\n",
      "\n",
      "image 22\n",
      "Prediksi Label (Augmented): 1\n",
      "Prediksi Label (Original): 1\n",
      "\n",
      "image 23\n",
      "Prediksi Label (Augmented): 3\n",
      "Prediksi Label (Original): 1\n",
      "\n",
      "image 24\n",
      "Prediksi Label (Augmented): 3\n",
      "Prediksi Label (Original): 1\n",
      "\n",
      "image 25\n",
      "Prediksi Label (Augmented): 3\n",
      "Prediksi Label (Original): 1\n",
      "\n",
      "image 26\n",
      "Prediksi Label (Augmented): 3\n",
      "Prediksi Label (Original): 1\n",
      "\n",
      "image 27\n",
      "Prediksi Label (Augmented): 2\n",
      "Prediksi Label (Original): 1\n",
      "\n",
      "image 28\n",
      "Prediksi Label (Augmented): 3\n",
      "Prediksi Label (Original): 1\n",
      "\n"
     ]
    }
   ],
   "source": [
    "# Load model SVM\n",
    "model_path = \"model/svm_canny_model_acc.pkl\"\n",
    "model_svm = joblib.load(model_path)\n",
    "\n",
    "print(\"Age Range 1\")\n",
    "# Memanggil gambar\n",
    "for i in range(20, 29):\n",
    "    image_path = f'assets/test/1/{i}.jpg'  # Update this path as needed\n",
    "    predicted_label_augmented = classify_image(image_path, model_svm, augment=True)\n",
    "    print(f\"image {i}\")\n",
    "    print(f\"Prediksi Label (Augmented): {predicted_label_augmented}\")\n",
    "    print(f\"Prediksi Label (Original): {predicted_label_original}\")\n",
    "    print()"
   ]
  },
  {
   "cell_type": "code",
   "execution_count": null,
   "metadata": {},
   "outputs": [
    {
     "name": "stdout",
     "output_type": "stream",
     "text": [
      "Age Range 2\n",
      "image 20\n",
      "Prediksi Label (Augmented): 5\n",
      "Prediksi Label (Original): 1\n",
      "\n",
      "image 21\n",
      "Prediksi Label (Augmented): 5\n",
      "Prediksi Label (Original): 1\n",
      "\n",
      "image 22\n",
      "Prediksi Label (Augmented): 5\n",
      "Prediksi Label (Original): 1\n",
      "\n",
      "image 23\n",
      "Prediksi Label (Augmented): 5\n",
      "Prediksi Label (Original): 1\n",
      "\n",
      "image 24\n",
      "Prediksi Label (Augmented): 5\n",
      "Prediksi Label (Original): 1\n",
      "\n",
      "image 25\n",
      "Prediksi Label (Augmented): 5\n",
      "Prediksi Label (Original): 1\n",
      "\n",
      "image 26\n",
      "Prediksi Label (Augmented): 5\n",
      "Prediksi Label (Original): 1\n",
      "\n",
      "image 27\n",
      "Prediksi Label (Augmented): 5\n",
      "Prediksi Label (Original): 1\n",
      "\n",
      "image 28\n",
      "Prediksi Label (Augmented): 5\n",
      "Prediksi Label (Original): 1\n",
      "\n"
     ]
    }
   ],
   "source": [
    "print(\"Age Range 2\")\n",
    "# Memanggil gambar\n",
    "for i in range(20, 29):\n",
    "    image_path = f'assets/test/2/{i}.jpg'  # Update this path as needed\n",
    "    predicted_label_augmented = classify_image(image_path, model_svm, augment=True)\n",
    "    print(f\"image {i}\")\n",
    "    print(f\"Prediksi Label (Augmented): {predicted_label_augmented}\")\n",
    "    print(f\"Prediksi Label (Original): {predicted_label_original}\")\n",
    "    print()"
   ]
  },
  {
   "cell_type": "code",
   "execution_count": null,
   "metadata": {},
   "outputs": [
    {
     "name": "stdout",
     "output_type": "stream",
     "text": [
      "Age Range 3\n",
      "image 20\n",
      "Prediksi Label (Augmented): 5\n",
      "Prediksi Label (Original): 1\n",
      "\n",
      "image 21\n",
      "Prediksi Label (Augmented): 5\n",
      "Prediksi Label (Original): 1\n",
      "\n",
      "image 22\n",
      "Prediksi Label (Augmented): 5\n",
      "Prediksi Label (Original): 1\n",
      "\n",
      "image 23\n",
      "Prediksi Label (Augmented): 5\n",
      "Prediksi Label (Original): 1\n",
      "\n",
      "image 24\n",
      "Prediksi Label (Augmented): 5\n",
      "Prediksi Label (Original): 1\n",
      "\n",
      "image 25\n",
      "Prediksi Label (Augmented): 5\n",
      "Prediksi Label (Original): 1\n",
      "\n",
      "image 26\n",
      "Prediksi Label (Augmented): 5\n",
      "Prediksi Label (Original): 1\n",
      "\n",
      "image 27\n",
      "Prediksi Label (Augmented): 5\n",
      "Prediksi Label (Original): 1\n",
      "\n",
      "image 28\n",
      "Prediksi Label (Augmented): 5\n",
      "Prediksi Label (Original): 1\n",
      "\n"
     ]
    }
   ],
   "source": [
    "print(\"Age Range 3\")\n",
    "# Memanggil gambar\n",
    "for i in range(20, 29):\n",
    "    image_path = f'assets/test/3/{i}.jpg'  # Update this path as needed\n",
    "    predicted_label_augmented = classify_image(image_path, model_svm, augment=True)\n",
    "    print(f\"image {i}\")\n",
    "    print(f\"Prediksi Label (Augmented): {predicted_label_augmented}\")\n",
    "    print(f\"Prediksi Label (Original): {predicted_label_original}\")\n",
    "    print()"
   ]
  },
  {
   "cell_type": "code",
   "execution_count": null,
   "metadata": {},
   "outputs": [
    {
     "name": "stdout",
     "output_type": "stream",
     "text": [
      "Age Range 4\n",
      "image 20\n",
      "Prediksi Label (Augmented): 5\n",
      "Prediksi Label (Original): 1\n",
      "\n",
      "image 21\n",
      "Prediksi Label (Augmented): 5\n",
      "Prediksi Label (Original): 1\n",
      "\n",
      "image 22\n",
      "Prediksi Label (Augmented): 5\n",
      "Prediksi Label (Original): 1\n",
      "\n",
      "image 23\n",
      "Prediksi Label (Augmented): 5\n",
      "Prediksi Label (Original): 1\n",
      "\n",
      "image 24\n",
      "Prediksi Label (Augmented): 5\n",
      "Prediksi Label (Original): 1\n",
      "\n",
      "image 25\n",
      "Prediksi Label (Augmented): 5\n",
      "Prediksi Label (Original): 1\n",
      "\n",
      "image 26\n",
      "Prediksi Label (Augmented): 5\n",
      "Prediksi Label (Original): 1\n",
      "\n",
      "image 27\n",
      "Prediksi Label (Augmented): 5\n",
      "Prediksi Label (Original): 1\n",
      "\n",
      "image 28\n",
      "Prediksi Label (Augmented): 5\n",
      "Prediksi Label (Original): 1\n",
      "\n"
     ]
    }
   ],
   "source": [
    "print(\"Age Range 4\")\n",
    "# Memanggil gambar\n",
    "for i in range(20, 29):\n",
    "    image_path = f'assets/test/4/{i}.jpg'  # Update this path as needed\n",
    "    predicted_label_augmented = classify_image(image_path, model_svm, augment=True)\n",
    "    print(f\"image {i}\")\n",
    "    print(f\"Prediksi Label (Augmented): {predicted_label_augmented}\")\n",
    "    print(f\"Prediksi Label (Original): {predicted_label_original}\")\n",
    "    print()"
   ]
  },
  {
   "cell_type": "code",
   "execution_count": null,
   "metadata": {},
   "outputs": [
    {
     "name": "stdout",
     "output_type": "stream",
     "text": [
      "Age Range 5\n",
      "image 20\n",
      "Prediksi Label (Augmented): 5\n",
      "Prediksi Label (Original): 1\n",
      "\n",
      "image 21\n",
      "Prediksi Label (Augmented): 5\n",
      "Prediksi Label (Original): 1\n",
      "\n",
      "image 22\n",
      "Prediksi Label (Augmented): 5\n",
      "Prediksi Label (Original): 1\n",
      "\n",
      "image 23\n",
      "Prediksi Label (Augmented): 5\n",
      "Prediksi Label (Original): 1\n",
      "\n",
      "image 24\n",
      "Prediksi Label (Augmented): 5\n",
      "Prediksi Label (Original): 1\n",
      "\n",
      "image 25\n",
      "Prediksi Label (Augmented): 5\n",
      "Prediksi Label (Original): 1\n",
      "\n",
      "image 26\n",
      "Prediksi Label (Augmented): 5\n",
      "Prediksi Label (Original): 1\n",
      "\n",
      "image 27\n",
      "Prediksi Label (Augmented): 5\n",
      "Prediksi Label (Original): 1\n",
      "\n",
      "image 28\n",
      "Prediksi Label (Augmented): 5\n",
      "Prediksi Label (Original): 1\n",
      "\n"
     ]
    }
   ],
   "source": [
    "print(\"Age Range 5\")\n",
    "# Memanggil gambar\n",
    "for i in range(20, 29):\n",
    "    image_path = f'assets/test/5/{i}.jpg'  # Update this path as needed\n",
    "    predicted_label_augmented = classify_image(image_path, model_svm, augment=True)\n",
    "    print(f\"image {i}\")\n",
    "    print(f\"Prediksi Label (Augmented): {predicted_label_augmented}\")\n",
    "    print(f\"Prediksi Label (Original): {predicted_label_original}\")\n",
    "    print()"
   ]
  },
  {
   "cell_type": "markdown",
   "metadata": {},
   "source": [
    "### RANDOM FOREST FINAL"
   ]
  },
  {
   "cell_type": "code",
   "execution_count": null,
   "metadata": {},
   "outputs": [
    {
     "name": "stdout",
     "output_type": "stream",
     "text": [
      "Age Range 1\n",
      "image 20\n",
      "Prediksi Label (Augmented): 1\n",
      "Prediksi Label (Original): 1\n",
      "\n",
      "image 21\n",
      "Prediksi Label (Augmented): 2\n",
      "Prediksi Label (Original): 1\n",
      "\n",
      "image 22\n",
      "Prediksi Label (Augmented): 3\n",
      "Prediksi Label (Original): 1\n",
      "\n",
      "image 23\n",
      "Prediksi Label (Augmented): 3\n",
      "Prediksi Label (Original): 1\n",
      "\n",
      "image 24\n",
      "Prediksi Label (Augmented): 4\n",
      "Prediksi Label (Original): 1\n",
      "\n",
      "image 25\n",
      "Prediksi Label (Augmented): 3\n",
      "Prediksi Label (Original): 1\n",
      "\n",
      "image 26\n",
      "Prediksi Label (Augmented): 1\n",
      "Prediksi Label (Original): 1\n",
      "\n",
      "image 27\n",
      "Prediksi Label (Augmented): 3\n",
      "Prediksi Label (Original): 1\n",
      "\n",
      "image 28\n",
      "Prediksi Label (Augmented): 3\n",
      "Prediksi Label (Original): 1\n",
      "\n"
     ]
    }
   ],
   "source": [
    "# Load model \n",
    "model_path = \"model/rf_canny_model_acc.pkl\"\n",
    "model_rf = joblib.load(model_path)\n",
    "\n",
    "print(\"Age Range 1\")\n",
    "# Memanggil gambar\n",
    "for i in range(20, 29):\n",
    "    image_path = f'assets/test/1/{i}.jpg'  # Update this path as needed\n",
    "    predicted_label_augmented = classify_image(image_path, model_rf, augment=True)\n",
    "    print(f\"image {i}\")\n",
    "    print(f\"Prediksi Label (Augmented): {predicted_label_augmented}\")\n",
    "    print(f\"Prediksi Label (Original): {predicted_label_original}\")\n",
    "    print()"
   ]
  },
  {
   "cell_type": "code",
   "execution_count": null,
   "metadata": {},
   "outputs": [
    {
     "name": "stdout",
     "output_type": "stream",
     "text": [
      "Age Range 2\n",
      "image 20\n",
      "Prediksi Label (Augmented): 5\n",
      "Prediksi Label (Original): 1\n",
      "\n",
      "image 21\n",
      "Prediksi Label (Augmented): 5\n",
      "Prediksi Label (Original): 1\n",
      "\n",
      "image 22\n",
      "Prediksi Label (Augmented): 5\n",
      "Prediksi Label (Original): 1\n",
      "\n",
      "image 23\n",
      "Prediksi Label (Augmented): 5\n",
      "Prediksi Label (Original): 1\n",
      "\n",
      "image 24\n",
      "Prediksi Label (Augmented): 5\n",
      "Prediksi Label (Original): 1\n",
      "\n",
      "image 25\n",
      "Prediksi Label (Augmented): 5\n",
      "Prediksi Label (Original): 1\n",
      "\n",
      "image 26\n",
      "Prediksi Label (Augmented): 5\n",
      "Prediksi Label (Original): 1\n",
      "\n",
      "image 27\n",
      "Prediksi Label (Augmented): 5\n",
      "Prediksi Label (Original): 1\n",
      "\n",
      "image 28\n",
      "Prediksi Label (Augmented): 5\n",
      "Prediksi Label (Original): 1\n",
      "\n"
     ]
    }
   ],
   "source": [
    "print(\"Age Range 2\")\n",
    "# Memanggil gambar\n",
    "for i in range(20, 29):\n",
    "    image_path = f'assets/test/2/{i}.jpg'  # Update this path as needed\n",
    "    predicted_label_augmented = classify_image(image_path, model_rf, augment=True)\n",
    "    print(f\"image {i}\")\n",
    "    print(f\"Prediksi Label (Augmented): {predicted_label_augmented}\")\n",
    "    print(f\"Prediksi Label (Original): {predicted_label_original}\")\n",
    "    print()"
   ]
  },
  {
   "cell_type": "code",
   "execution_count": null,
   "metadata": {},
   "outputs": [
    {
     "name": "stdout",
     "output_type": "stream",
     "text": [
      "Age Range 3\n",
      "image 20\n",
      "Prediksi Label (Augmented): 5\n",
      "Prediksi Label (Original): 1\n",
      "\n",
      "image 21\n",
      "Prediksi Label (Augmented): 5\n",
      "Prediksi Label (Original): 1\n",
      "\n",
      "image 22\n",
      "Prediksi Label (Augmented): 5\n",
      "Prediksi Label (Original): 1\n",
      "\n",
      "image 23\n",
      "Prediksi Label (Augmented): 5\n",
      "Prediksi Label (Original): 1\n",
      "\n",
      "image 24\n",
      "Prediksi Label (Augmented): 5\n",
      "Prediksi Label (Original): 1\n",
      "\n",
      "image 25\n",
      "Prediksi Label (Augmented): 5\n",
      "Prediksi Label (Original): 1\n",
      "\n",
      "image 26\n",
      "Prediksi Label (Augmented): 5\n",
      "Prediksi Label (Original): 1\n",
      "\n",
      "image 27\n",
      "Prediksi Label (Augmented): 5\n",
      "Prediksi Label (Original): 1\n",
      "\n",
      "image 28\n",
      "Prediksi Label (Augmented): 5\n",
      "Prediksi Label (Original): 1\n",
      "\n"
     ]
    }
   ],
   "source": [
    "print(\"Age Range 3\")\n",
    "# Memanggil gambar\n",
    "for i in range(20, 29):\n",
    "    image_path = f'assets/test/3/{i}.jpg'  # Update this path as needed\n",
    "    predicted_label_augmented = classify_image(image_path, model_rf, augment=True)\n",
    "    print(f\"image {i}\")\n",
    "    print(f\"Prediksi Label (Augmented): {predicted_label_augmented}\")\n",
    "    print(f\"Prediksi Label (Original): {predicted_label_original}\")\n",
    "    print()"
   ]
  },
  {
   "cell_type": "code",
   "execution_count": null,
   "metadata": {},
   "outputs": [
    {
     "name": "stdout",
     "output_type": "stream",
     "text": [
      "Age Range 4\n",
      "image 20\n",
      "Prediksi Label (Augmented): 5\n",
      "Prediksi Label (Original): 1\n",
      "\n",
      "image 21\n",
      "Prediksi Label (Augmented): 5\n",
      "Prediksi Label (Original): 1\n",
      "\n",
      "image 22\n",
      "Prediksi Label (Augmented): 5\n",
      "Prediksi Label (Original): 1\n",
      "\n",
      "image 23\n",
      "Prediksi Label (Augmented): 5\n",
      "Prediksi Label (Original): 1\n",
      "\n",
      "image 24\n",
      "Prediksi Label (Augmented): 5\n",
      "Prediksi Label (Original): 1\n",
      "\n",
      "image 25\n",
      "Prediksi Label (Augmented): 5\n",
      "Prediksi Label (Original): 1\n",
      "\n",
      "image 26\n",
      "Prediksi Label (Augmented): 5\n",
      "Prediksi Label (Original): 1\n",
      "\n",
      "image 27\n",
      "Prediksi Label (Augmented): 5\n",
      "Prediksi Label (Original): 1\n",
      "\n",
      "image 28\n",
      "Prediksi Label (Augmented): 5\n",
      "Prediksi Label (Original): 1\n",
      "\n"
     ]
    }
   ],
   "source": [
    "print(\"Age Range 4\")\n",
    "# Memanggil gambar\n",
    "for i in range(20, 29):\n",
    "    image_path = f'assets/test/4/{i}.jpg'  # Update this path as needed\n",
    "    predicted_label_augmented = classify_image(image_path, model_rf, augment=True)\n",
    "    print(f\"image {i}\")\n",
    "    print(f\"Prediksi Label (Augmented): {predicted_label_augmented}\")\n",
    "    print(f\"Prediksi Label (Original): {predicted_label_original}\")\n",
    "    print()"
   ]
  },
  {
   "cell_type": "code",
   "execution_count": null,
   "metadata": {},
   "outputs": [
    {
     "name": "stdout",
     "output_type": "stream",
     "text": [
      "Age Range 5\n",
      "image 20\n",
      "Prediksi Label (Augmented): 5\n",
      "Prediksi Label (Original): 1\n",
      "\n",
      "image 21\n",
      "Prediksi Label (Augmented): 5\n",
      "Prediksi Label (Original): 1\n",
      "\n",
      "image 22\n",
      "Prediksi Label (Augmented): 5\n",
      "Prediksi Label (Original): 1\n",
      "\n",
      "image 23\n",
      "Prediksi Label (Augmented): 5\n",
      "Prediksi Label (Original): 1\n",
      "\n",
      "image 24\n",
      "Prediksi Label (Augmented): 5\n",
      "Prediksi Label (Original): 1\n",
      "\n",
      "image 25\n",
      "Prediksi Label (Augmented): 5\n",
      "Prediksi Label (Original): 1\n",
      "\n",
      "image 26\n",
      "Prediksi Label (Augmented): 5\n",
      "Prediksi Label (Original): 1\n",
      "\n",
      "image 27\n",
      "Prediksi Label (Augmented): 5\n",
      "Prediksi Label (Original): 1\n",
      "\n",
      "image 28\n",
      "Prediksi Label (Augmented): 5\n",
      "Prediksi Label (Original): 1\n",
      "\n"
     ]
    }
   ],
   "source": [
    "print(\"Age Range 5\")\n",
    "# Memanggil gambar\n",
    "for i in range(20, 29):\n",
    "    image_path = f'assets/test/5/{i}.jpg'  # Update this path as needed\n",
    "    predicted_label_augmented = classify_image(image_path, model_rf, augment=True)\n",
    "    print(f\"image {i}\")\n",
    "    print(f\"Prediksi Label (Augmented): {predicted_label_augmented}\")\n",
    "    print(f\"Prediksi Label (Original): {predicted_label_original}\")\n",
    "    print()"
   ]
  }
 ],
 "metadata": {
  "colab": {
   "provenance": []
  },
  "kernelspec": {
   "display_name": "base",
   "language": "python",
   "name": "python3"
  },
  "language_info": {
   "codemirror_mode": {
    "name": "ipython",
    "version": 3
   },
   "file_extension": ".py",
   "mimetype": "text/x-python",
   "name": "python",
   "nbconvert_exporter": "python",
   "pygments_lexer": "ipython3",
   "version": "3.12.3"
  }
 },
 "nbformat": 4,
 "nbformat_minor": 0
}
