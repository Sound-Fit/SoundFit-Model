{
 "cells": [
  {
   "cell_type": "markdown",
   "metadata": {},
   "source": [
    "### Load Library"
   ]
  },
  {
   "cell_type": "code",
   "execution_count": null,
   "metadata": {},
   "outputs": [],
   "source": [
    "import os\n",
    "import numpy as np\n",
    "import pandas as pd\n",
    "import cv2\n",
    "from sklearn.preprocessing import StandardScaler\n",
    "from sklearn.metrics import confusion_matrix"
   ]
  },
  {
   "cell_type": "markdown",
   "metadata": {},
   "source": [
    "### Load Path Dataset"
   ]
  },
  {
   "cell_type": "code",
   "execution_count": 2,
   "metadata": {},
   "outputs": [],
   "source": [
    "# Path dataset lokal\n",
    "train_folder = 'dataset/final_dataset/train'\n",
    "test_folder = 'dataset/final_dataset/test'"
   ]
  },
  {
   "cell_type": "markdown",
   "metadata": {},
   "source": [
    "### Ekstrasi Fitur"
   ]
  },
  {
   "cell_type": "code",
   "execution_count": 4,
   "metadata": {},
   "outputs": [],
   "source": [
    "# Fungsi untuk mendapatkan target label berdasarkan struktur folder\n",
    "def load_images_and_labels(folder_path):\n",
    "    data = []\n",
    "    for root, _, files in os.walk(folder_path):\n",
    "        for file_name in files:\n",
    "            if file_name.lower().endswith(('.jpg', '.jpeg', '.png')):\n",
    "                file_path = os.path.join(root, file_name)\n",
    "                # Ekstrak label dari angka sebelum ekstensi\n",
    "                label = int(file_name.split('_')[-1].split('.')[0])\n",
    "                data.append((file_path, label))  # Path dan label\n",
    "    return pd.DataFrame(data, columns=['filepath', 'label'])\n",
    "\n",
    "# Load data train dan test\n",
    "train_df = load_images_and_labels(train_folder)\n",
    "test_df = load_images_and_labels(test_folder)\n",
    "\n",
    "# Fungsi untuk ekstraksi fitur dari gambar menggunakan grid 10x10\n",
    "def extract_features_from_image(img_path, size=(200, 200)):\n",
    "    img = cv2.imread(img_path, cv2.IMREAD_GRAYSCALE)\n",
    "    img = cv2.resize(img, size)\n",
    "    features = []\n",
    "    for y in range(0, size[0], 10):\n",
    "        for x in range(0, size[1], 10):\n",
    "            section = img[y:y+10, x:x+10]\n",
    "            features.append(np.mean(section))\n",
    "            features.append(np.std(section))\n",
    "    return np.array(features)\n",
    "\n",
    "# Ekstraksi fitur dari dataset\n",
    "def extract_features(data_df):\n",
    "    features = []\n",
    "    labels = []\n",
    "    for _, row in data_df.iterrows():\n",
    "        img_features = extract_features_from_image(row['filepath'])\n",
    "        features.append(img_features)\n",
    "        labels.append(row['label'])\n",
    "    return np.array(features), np.array(labels)\n",
    "\n",
    "# Ekstraksi fitur train dan test\n",
    "X_train, y_train = extract_features(train_df)\n",
    "X_test, y_test = extract_features(test_df)\n",
    "\n",
    "# Standarisasi fitur\n",
    "scaler = StandardScaler()\n",
    "X_train_sc = scaler.fit_transform(X_train)\n",
    "X_test_sc = scaler.transform(X_test)"
   ]
  },
  {
   "cell_type": "markdown",
   "metadata": {},
   "source": [
    "### Klasifikasi"
   ]
  },
  {
   "cell_type": "code",
   "execution_count": 6,
   "metadata": {},
   "outputs": [
    {
     "name": "stdout",
     "output_type": "stream",
     "text": [
      "Requirement already satisfied: xgboost in c:\\users\\user\\anaconda3\\lib\\site-packages (2.1.3)\n",
      "Requirement already satisfied: numpy in c:\\users\\user\\anaconda3\\lib\\site-packages (from xgboost) (1.26.4)\n",
      "Requirement already satisfied: scipy in c:\\users\\user\\anaconda3\\lib\\site-packages (from xgboost) (1.13.1)\n"
     ]
    }
   ],
   "source": [
    "!pip install xgboost"
   ]
  },
  {
   "cell_type": "code",
   "execution_count": 9,
   "metadata": {},
   "outputs": [
    {
     "name": "stdout",
     "output_type": "stream",
     "text": [
      "Confusion Matrix:\n",
      "[[459  23  11   5   3   9]\n",
      " [ 19 379  59  36   6  11]\n",
      " [ 14  61 286  95  39  15]\n",
      " [  2  35 135 215  93  30]\n",
      " [  8   8  31  95 297  71]\n",
      " [  1  10  24  39  51 385]]\n",
      "Accuracy: 66.05%\n"
     ]
    }
   ],
   "source": [
    "from xgboost import XGBClassifier\n",
    "from sklearn.metrics import confusion_matrix, accuracy_score\n",
    "\n",
    "# Membuat model XGBoost\n",
    "xgb_model = XGBClassifier(n_estimators=100, max_depth=5, random_state=42)\n",
    "\n",
    "# Melatih model\n",
    "xgb_model.fit(X_train_sc, y_train)\n",
    "\n",
    "# Evaluasi model\n",
    "y_pred = xgb_model.predict(X_test_sc)\n",
    "\n",
    "# Confusion Matrix\n",
    "cm = confusion_matrix(y_test, y_pred)\n",
    "print(\"Confusion Matrix:\")\n",
    "print(cm)\n",
    "\n",
    "# Akurasi Model\n",
    "accuracy = accuracy_score(y_test, y_pred)\n",
    "print(f\"Accuracy: {accuracy * 100:.2f}%\")"
   ]
  },
  {
   "cell_type": "markdown",
   "metadata": {},
   "source": [
    "### Saving Model"
   ]
  },
  {
   "cell_type": "code",
   "execution_count": null,
   "metadata": {},
   "outputs": [],
   "source": [
    "import pickle\n",
    "\n",
    "# Saving the XGBoost model from above in a pickle file for possible use later.\n",
    "xgb_pickle = f\"model/xgboost_canny_model_acc_{accuracy}.pkl\"\n",
    "with open(xgb_pickle, 'wb') as file:\n",
    "    pickle.dump(xgb_model, file)"
   ]
  },
  {
   "cell_type": "markdown",
   "metadata": {},
   "source": [
    "### SVM"
   ]
  },
  {
   "cell_type": "code",
   "execution_count": 11,
   "metadata": {},
   "outputs": [
    {
     "name": "stdout",
     "output_type": "stream",
     "text": [
      "Confusion Matrix:\n",
      "[[459  37   2   3   4   5]\n",
      " [ 45 376  63  16   3   7]\n",
      " [ 21  98 231 105  38  17]\n",
      " [ 19  52 138 184  87  30]\n",
      " [  5  28  60 131 222  64]\n",
      " [  8  23  25  69  84 301]]\n",
      "Accuracy: 57.94%\n"
     ]
    }
   ],
   "source": [
    "# Model SVM\n",
    "svm_model = SVC(kernel='linear', random_state=42)\n",
    "svm_model.fit(X_train_sc, y_train)\n",
    "\n",
    "# Evaluasi\n",
    "y_pred = svm_model.predict(X_test_sc)\n",
    "cm = confusion_matrix(y_test, y_pred)\n",
    "print(\"Confusion Matrix:\")\n",
    "print(cm)\n",
    "\n",
    "# Akurasi Model\n",
    "accuracy = accuracy_score(y_test, y_pred)\n",
    "print(f\"Accuracy: {accuracy * 100:.2f}%\")"
   ]
  },
  {
   "cell_type": "code",
   "execution_count": null,
   "metadata": {},
   "outputs": [],
   "source": [
    "import pickle\n",
    "\n",
    "# Saving the XGBoost model from above in a pickle file for possible use later.\n",
    "svm_pickle = f\"model/svm_canny_model_acc_{accuracy}.pkl\"\n",
    "with open(svm_pickle, 'wb') as file:\n",
    "    pickle.dump(svm_model, file)"
   ]
  },
  {
   "cell_type": "markdown",
   "metadata": {},
   "source": [
    "### Random Forest"
   ]
  },
  {
   "cell_type": "code",
   "execution_count": 13,
   "metadata": {},
   "outputs": [
    {
     "name": "stdout",
     "output_type": "stream",
     "text": [
      "Confusion Matrix:\n",
      "[[449  22  12   9  10   8]\n",
      " [ 36 377  52  26   8  11]\n",
      " [ 33  79 244  73  45  36]\n",
      " [ 32  31 120 172  89  66]\n",
      " [  6  13  28  73 293  97]\n",
      " [ 16  15  28  26  64 361]]\n",
      "Accuracy: 61.96%\n"
     ]
    }
   ],
   "source": [
    "from sklearn.ensemble import RandomForestClassifier\n",
    "from sklearn.metrics import confusion_matrix, accuracy_score\n",
    "\n",
    "# Membuat model Random Forest\n",
    "rf_model = RandomForestClassifier(n_estimators=100, max_depth=10, random_state=42)\n",
    "\n",
    "# Melatih model dengan data training\n",
    "rf_model.fit(X_train_sc, y_train)\n",
    "\n",
    "# Prediksi menggunakan model Random Forest\n",
    "y_pred = rf_model.predict(X_test_sc)\n",
    "\n",
    "# Confusion Matrix\n",
    "cm = confusion_matrix(y_test, y_pred)\n",
    "print(\"Confusion Matrix:\")\n",
    "print(cm)\n",
    "\n",
    "# Akurasi Model\n",
    "accuracy = accuracy_score(y_test, y_pred)\n",
    "print(f\"Accuracy: {accuracy * 100:.2f}%\")"
   ]
  },
  {
   "cell_type": "code",
   "execution_count": null,
   "metadata": {},
   "outputs": [],
   "source": [
    "import pickle\n",
    "\n",
    "# Saving the XGBoost model from above in a pickle file for possible use later.\n",
    "svm_pickle = f\"model/rf_canny_model_acc_{accuracy}.pkl\"\n",
    "with open(svm_pickle, 'wb') as file:\n",
    "    pickle.dump(svm_model, file)"
   ]
  }
 ],
 "metadata": {
  "kernelspec": {
   "display_name": "base",
   "language": "python",
   "name": "python3"
  },
  "language_info": {
   "codemirror_mode": {
    "name": "ipython",
    "version": 3
   },
   "file_extension": ".py",
   "mimetype": "text/x-python",
   "name": "python",
   "nbconvert_exporter": "python",
   "pygments_lexer": "ipython3",
   "version": "3.12.3"
  }
 },
 "nbformat": 4,
 "nbformat_minor": 2
}
